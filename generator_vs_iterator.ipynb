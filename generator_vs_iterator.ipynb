{
 "cells": [
  {
   "cell_type": "markdown",
   "metadata": {},
   "source": [
    "https://mayurji.github.io/blog/2020/12/05/iterators_generators"
   ]
  },
  {
   "cell_type": "code",
   "execution_count": 43,
   "metadata": {},
   "outputs": [],
   "source": [
    "#!pip install memory_profiler\n",
    "import memory_profiler as mem_profile"
   ]
  },
  {
   "cell_type": "markdown",
   "metadata": {},
   "source": [
    "# Generator\n",
    "\n",
    "## General Generator"
   ]
  },
  {
   "cell_type": "code",
   "execution_count": 11,
   "metadata": {},
   "outputs": [
    {
     "name": "stdout",
     "output_type": "stream",
     "text": [
      "<generator object generator at 0x7fef8402b820>\n",
      "g\n",
      "n\n",
      "i\n",
      "r\n",
      "t\n"
     ]
    }
   ],
   "source": [
    "string = 'mystring'\n",
    "\n",
    "def generator(string):\n",
    "    length = len(string)\n",
    "    for i in range(length-1, 2, -1):  # 2 is step, -1 is reverse\n",
    "        yield str(string[i])\n",
    "        # `yield` works like a return but it gives back a generator object to the caller.\n",
    "        \n",
    "print(generator(string))\n",
    "\n",
    "for i in generator(string):\n",
    "    print(i)"
   ]
  },
  {
   "cell_type": "markdown",
   "metadata": {},
   "source": [
    "## Generator Expression"
   ]
  },
  {
   "cell_type": "code",
   "execution_count": 27,
   "metadata": {},
   "outputs": [
    {
     "name": "stdout",
     "output_type": "stream",
     "text": [
      "[1, 100, 81, 0]\n",
      "<class 'list_iterator'>\n",
      "1\n",
      "10\n",
      "182\n",
      "\n",
      "<generator object <genexpr> at 0x7fef840404a0>\n",
      "1\n",
      "100\n",
      "182\n"
     ]
    }
   ],
   "source": [
    "my_list = [1, 10, 9, 0]\n",
    "\n",
    "# list and list iterator\n",
    "ls_my_list = [k**2 for k in my_list]\n",
    "print(ls_my_list)\n",
    "\n",
    "# print(next(ls_my_list))  # Err: list is not a generator\n",
    "iterator = iter(my_list)\n",
    "print(type(iterator))\n",
    "print(next(iterator))\n",
    "print(next(iterator))\n",
    "\n",
    "print(sum(ls_my_list))\n",
    "\n",
    "print()\n",
    "\n",
    "# generator\n",
    "generator = (k**2 for k in my_list)\n",
    "print(generator)\n",
    "\n",
    "print(next(generator))\n",
    "print(next(generator))\n",
    "\n",
    "total = sum( x for x in ls_my_list )\n",
    "print(total)"
   ]
  },
  {
   "cell_type": "code",
   "execution_count": 37,
   "metadata": {},
   "outputs": [
    {
     "name": "stdout",
     "output_type": "stream",
     "text": [
      "[0, 1, 1, 2, 3, 5, 8, 13, 21, 34]\n",
      "[0, 1, 1, 2, 3, 5, 8, 13, 21, 34]\n"
     ]
    }
   ],
   "source": [
    "# list iterator\n",
    "def fibonacci_list(num_items):\n",
    "    numbers = []\n",
    "    a, b = 0, 1\n",
    "    while len(numbers) < num_items:\n",
    "        numbers.append(a)\n",
    "        a, b = b, a+b\n",
    "    return numbers\n",
    "\n",
    "print(fibonacci_list(10))\n",
    "\n",
    "# generator\n",
    "def fibonacci_gen(num_items):\n",
    "    a, b = 0, 1\n",
    "    while num_items:\n",
    "        yield a\n",
    "        a, b = b, a+b\n",
    "        num_items -= 1\n",
    "        \n",
    "print(list(fibonacci_gen(10)))"
   ]
  },
  {
   "cell_type": "markdown",
   "metadata": {},
   "source": [
    "## Memory Efficiency\n",
    "\n",
    "- A major benefit of using a Generator is the memory saved during the iteration, because we don’t store the elements anywhere after processing.\n",
    "- For instance, consider an iteration over a million numbers, if we store the numbers in a list, it occupies hundreds of megabytes for storing it, while on the other hand, generator there is no concept of storing the items, we perform lazy evaluation when the generator is called.\n",
    "- Lazy Evaluation, we don’t priorly identify or evaluate all the element, we evaluate element when required."
   ]
  },
  {
   "cell_type": "code",
   "execution_count": 47,
   "metadata": {},
   "outputs": [
    {
     "name": "stdout",
     "output_type": "stream",
     "text": [
      "for list:\n",
      "416 ms ± 32.5 ms per loop (mean ± std. dev. of 7 runs, 1 loop each)\n",
      "peak memory: 542.75 MiB, increment: 372.92 MiB\n",
      "for generator:\n",
      "124 ms ± 1.8 ms per loop (mean ± std. dev. of 7 runs, 10 loops each)\n",
      "peak memory: 164.12 MiB, increment: 0.00 MiB\n"
     ]
    }
   ],
   "source": [
    "def test_fibonacci_list():\n",
    "    for i in fibonacci_list(100_000):\n",
    "        pass\n",
    "        \n",
    "def test_fibonacci_gen():\n",
    "    for i in fibonacci_gen(100_000):\n",
    "        pass\n",
    "\n",
    "#%load_ext memory_profiler\n",
    "\n",
    "print(\"for list:\")\n",
    "%timeit test_fibonacci_list()\n",
    "%memit test_fibonacci_list()\n",
    "\n",
    "print(\"for generator:\")\n",
    "%timeit test_fibonacci_gen()\n",
    "%memit test_fibonacci_gen()"
   ]
  },
  {
   "cell_type": "code",
   "execution_count": 72,
   "metadata": {},
   "outputs": [
    {
     "name": "stdout",
     "output_type": "stream",
     "text": [
      "2500\n",
      "1.88 s ± 4.77 ms per loop (mean ± std. dev. of 7 runs, 1 loop each)\n",
      "peak memory: 565.57 MiB, increment: 304.60 MiB\n",
      "2500\n",
      "1.55 s ± 5.85 ms per loop (mean ± std. dev. of 7 runs, 1 loop each)\n",
      "peak memory: 249.88 MiB, increment: 0.00 MiB\n"
     ]
    }
   ],
   "source": [
    "def test_fibonacci_list():\n",
    "    divisable_by_three = len([ x for x in fibonacci_list(100_000) if x % 3 == 0 ] )\n",
    "    return divisable_by_three\n",
    "\n",
    "def test_fibonacci_gen():\n",
    "    divisable_by_three = sum( 1 for x in fibonacci_gen(100_000) if x % 3 == 0 )  # use 1 to cal length\n",
    "    return divisable_by_three\n",
    "\n",
    "print(test_list())\n",
    "%timeit test_fibonacci_list()\n",
    "%memit test_fibonacci_list()\n",
    "\n",
    "print(test_gen())\n",
    "%timeit test_fibonacci_gen()\n",
    "%memit test_fibonacci_gen()"
   ]
  },
  {
   "cell_type": "code",
   "execution_count": 60,
   "metadata": {},
   "outputs": [
    {
     "name": "stdout",
     "output_type": "stream",
     "text": [
      "1\n",
      "2\n",
      "3\n",
      "4\n",
      "5\n",
      "6\n",
      "[[1, 3, 5], [2, 4, 6]]\n"
     ]
    }
   ],
   "source": [
    "# east egg: one way to transpose a nested list\n",
    "\n",
    "ls = [[1, 2], [3, 4], [5, 6]]\n",
    "\n",
    "for i in range(len(ls)):\n",
    "    for j in range(len(ls[i])):\n",
    "        print(ls[i][j])\n",
    "        \n",
    "transposed = [ [ls[j][i] for j in range(len(ls))] for i in range(len(ls[j])) ]\n",
    "print(transposed)"
   ]
  },
  {
   "cell_type": "markdown",
   "metadata": {},
   "source": [
    "## Other Advantage of Python Gennerator\n",
    "\n",
    "1. Easy to Implement Anywhere\n",
    "- The python generators are easy to implement in the dynamic as well as user-defined codes.\n",
    "- They generally fetch values from libraries, which make them accessible on every python version.\n",
    "\n",
    "2. Highly Memory Efficient\n",
    "- A normal function to return a sequence will create the entire sequence in memory before returning the result within the runtime itself.\n",
    "\n",
    "3. Represent Infinite Stream\n",
    "- Generators can represent the length of a series of infinite numbers taken at a time.\n",
    "- And this is supported by the library function.\n",
    "\n",
    "4. Pipelining Generators in Python\n",
    "- Multiple generators can be used to pipeline a series of operations within the runtime itself."
   ]
  }
 ],
 "metadata": {
  "kernelspec": {
   "display_name": "Python 3",
   "language": "python",
   "name": "python3"
  },
  "language_info": {
   "codemirror_mode": {
    "name": "ipython",
    "version": 3
   },
   "file_extension": ".py",
   "mimetype": "text/x-python",
   "name": "python",
   "nbconvert_exporter": "python",
   "pygments_lexer": "ipython3",
   "version": "3.8.5"
  },
  "toc": {
   "base_numbering": 1,
   "nav_menu": {},
   "number_sections": true,
   "sideBar": true,
   "skip_h1_title": false,
   "title_cell": "Table of Contents",
   "title_sidebar": "Contents",
   "toc_cell": false,
   "toc_position": {},
   "toc_section_display": true,
   "toc_window_display": false
  }
 },
 "nbformat": 4,
 "nbformat_minor": 4
}
