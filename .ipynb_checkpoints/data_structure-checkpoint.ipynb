{
 "cells": [
  {
   "cell_type": "markdown",
   "metadata": {},
   "source": [
    "# Sequences: Str, List, Tuple\n",
    "\n",
    "## Indexing"
   ]
  },
  {
   "cell_type": "code",
   "execution_count": 2,
   "metadata": {},
   "outputs": [
    {
     "name": "stdout",
     "output_type": "stream",
     "text": [
      "c\n",
      "how are you\n",
      "meet\n"
     ]
    }
   ],
   "source": [
    "x = \"abc\"\n",
    "print(x[2])\n",
    "x = [\"hello\", \"world\", \"how are you\"]\n",
    "print(x[2])\n",
    "x = (\"nice\", \"to\", \"meet\", \"you\")\n",
    "print(x[2])"
   ]
  },
  {
   "cell_type": "markdown",
   "metadata": {},
   "source": [
    "## Slicing"
   ]
  },
  {
   "cell_type": "code",
   "execution_count": 5,
   "metadata": {},
   "outputs": [
    {
     "name": "stdout",
     "output_type": "stream",
     "text": [
      "012\n",
      "3456789\n",
      "0123456\n",
      "789\n",
      "3456\n",
      "0369\n",
      "14\n"
     ]
    }
   ],
   "source": [
    "x = \"0123456789\"\n",
    "print(x[:3])\n",
    "print(x[3:])\n",
    "print(x[:-3])\n",
    "print(x[-3:])\n",
    "print(x[3:-3])\n",
    "print(x[::3])  # last one is step\n",
    "print(x[1:6:3])"
   ]
  },
  {
   "cell_type": "markdown",
   "metadata": {},
   "source": [
    "## Adding / Concatinating"
   ]
  },
  {
   "cell_type": "code",
   "execution_count": null,
   "metadata": {},
   "outputs": [],
   "source": [
    "# str\n",
    "x = \"abc\" + \"def\"\n",
    "\n",
    "# list\n",
    "y = [\"abc\", \"def\"] + [\"hi\", \"jk\"]\n",
    "\n",
    "# tuple\n",
    "z = (\"how\", \"are\") + (\"you\", \"doing\")"
   ]
  }
 ],
 "metadata": {
  "kernelspec": {
   "display_name": "Python 3",
   "language": "python",
   "name": "python3"
  },
  "language_info": {
   "codemirror_mode": {
    "name": "ipython",
    "version": 3
   },
   "file_extension": ".py",
   "mimetype": "text/x-python",
   "name": "python",
   "nbconvert_exporter": "python",
   "pygments_lexer": "ipython3",
   "version": "3.8.5"
  }
 },
 "nbformat": 4,
 "nbformat_minor": 4
}
