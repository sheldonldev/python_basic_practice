{
 "cells": [
  {
   "cell_type": "markdown",
   "metadata": {},
   "source": [
    "4 basics of Object Oriented Programming:\n",
    "- Encapsulation\n",
    "- Inheritance\n",
    "- Polymorphism\n",
    "- Abstraction"
   ]
  },
  {
   "cell_type": "markdown",
   "metadata": {},
   "source": [
    "# Classes and Objects"
   ]
  },
  {
   "cell_type": "code",
   "execution_count": 1,
   "metadata": {},
   "outputs": [
    {
     "name": "stdout",
     "output_type": "stream",
     "text": [
      "Ignited Minds\n",
      "Python Guide\n",
      "JavaScript Handbook\n"
     ]
    }
   ],
   "source": [
    "# class is the blue print of an object\n",
    "\n",
    "class Book:\n",
    "    name = \"Ignited Minds\"\n",
    "    \n",
    "book1 = Book()\n",
    "print(book1.name)\n",
    "\n",
    "book2 = Book()\n",
    "book2.name = \"Python Guides\"\n",
    "print(book2.name)\n",
    "\n",
    "book3 = Book()\n",
    "book3.name = \"JavaScript Handbook\"\n",
    "print(book3.name)"
   ]
  },
  {
   "cell_type": "code",
   "execution_count": 2,
   "metadata": {},
   "outputs": [
    {
     "name": "stdout",
     "output_type": "stream",
     "text": [
      "Python Guides\n",
      "JavaScript Handbook\n"
     ]
    }
   ],
   "source": [
    "# a better way is to use __init__(), parameters can be passed as an object is created\n",
    "\n",
    "class Book:\n",
    "    def __init__(self, name=\"Ignited Minds\"):\n",
    "        self.name = name\n",
    "        \n",
    "book1 = Book(\"Python Guides\")\n",
    "print(book1.name)\n",
    "\n",
    "book2 = Book(\"JavaScript Handbook\")\n",
    "print(book2.name)"
   ]
  },
  {
   "cell_type": "markdown",
   "metadata": {},
   "source": [
    "# Inheretance"
   ]
  },
  {
   "cell_type": "code",
   "execution_count": 24,
   "metadata": {},
   "outputs": [
    {
     "name": "stdout",
     "output_type": "stream",
     "text": [
      "60\n",
      "259.80762113533166\n",
      "40\n",
      "100.00000000000001\n",
      "30\n",
      "43.301270189221945\n",
      "True\n",
      "False\n",
      "True\n",
      "True\n",
      "False\n",
      "True\n",
      "True\n",
      "True\n"
     ]
    }
   ],
   "source": [
    "import math\n",
    "\n",
    "class RegularPolygon:\n",
    "    def __init__(self, sides, side_len):\n",
    "        self.sides = sides\n",
    "        self.side_len = side_len\n",
    "        self.perimeter = self.sides * self.side_len\n",
    "        \n",
    "    def area(self):\n",
    "        r = (self.side_len * 0.5) / math.tan( math.pi/self.sides )\n",
    "        return r * self.perimeter / 2\n",
    "        \n",
    "class Square(RegularPolygon):\n",
    "    def __init__(self, side_len):              # init method has been overwritten\n",
    "        self.sides = 4\n",
    "        super().__init__(self.sides, side_len) # while still inherit from parents\n",
    "\n",
    "class Triangle(RegularPolygon):\n",
    "    pass\n",
    "        \n",
    "hexagon = Polygon(6, 10)\n",
    "print(hexagon.perimeter)\n",
    "print(hexagon.area())\n",
    "        \n",
    "square = Square(10)\n",
    "print(square.perimeter)  # inherit from parent through super().__init__()\n",
    "print(square.area())     # inherit from parent through the methods not overwritten\n",
    "\n",
    "triangle = Triangle(3, 10)\n",
    "print(triangle.perimeter)\n",
    "print(triangle.area())\n",
    "\n",
    "# isinstance\n",
    "print(isinstance(square, Square))\n",
    "print(isinstance(triangle, Square))\n",
    "print(isinstance(square, RegularPolygon))\n",
    "print(isinstance(5, int))\n",
    "print(isinstance(5, float))\n",
    "\n",
    "# issubclass\n",
    "print(issubclass(Square, Square))\n",
    "print(issubclass(Triangle, RegularPolygon))\n",
    "print(issubclass(Square, RegularPolygon))"
   ]
  },
  {
   "cell_type": "markdown",
   "metadata": {},
   "source": [
    "# Multiple Inheritance"
   ]
  },
  {
   "cell_type": "code",
   "execution_count": 25,
   "metadata": {},
   "outputs": [
    {
     "name": "stdout",
     "output_type": "stream",
     "text": [
      "John\n",
      "32\n",
      "Hip-hop\n"
     ]
    }
   ],
   "source": [
    "class Person:\n",
    "    def __init__(self, name, age):\n",
    "        self.name = name\n",
    "        self.age = age\n",
    "        \n",
    "class Dancer:\n",
    "    def __init__(self, style):\n",
    "        self.style = style\n",
    "        \n",
    "class Student:\n",
    "    def __init__(self, name, age, style):\n",
    "        Person.__init__(self, name, age)\n",
    "        Dancer.__init__(self, style)\n",
    "        \n",
    "John = Student(\"John\", 32, \"Hip-hop\")\n",
    "print(John.name)\n",
    "print(John.age)\n",
    "print(John.style)"
   ]
  },
  {
   "cell_type": "markdown",
   "metadata": {},
   "source": [
    "# Operator Overloading"
   ]
  },
  {
   "cell_type": "code",
   "execution_count": 28,
   "metadata": {},
   "outputs": [
    {
     "name": "stdout",
     "output_type": "stream",
     "text": [
      "68\n"
     ]
    }
   ],
   "source": [
    "# Without Overloading\n",
    "class Book:\n",
    "    def __init__(self, price):\n",
    "        self.price = price\n",
    "\n",
    "book1 = Book(23)\n",
    "book2 = Book(45)\n",
    "\n",
    "total = book1.price + book2.price\n",
    "print(total)"
   ]
  },
  {
   "cell_type": "code",
   "execution_count": 34,
   "metadata": {},
   "outputs": [],
   "source": [
    "# try this\n",
    "# dir(int)"
   ]
  },
  {
   "cell_type": "code",
   "execution_count": 38,
   "metadata": {},
   "outputs": [
    {
     "name": "stdout",
     "output_type": "stream",
     "text": [
      "68\n",
      "False\n"
     ]
    }
   ],
   "source": [
    "# With Overloading\n",
    "class Book:\n",
    "    def __init__(self, price):\n",
    "        self.price = price\n",
    "\n",
    "    def __add__(self, other): # overwrite the default __add__\n",
    "        return self.price + other.price\n",
    "    \n",
    "    def __lt__(self, other):\n",
    "        return self.price < other.price\n",
    "        \n",
    "book1 = Book(23)\n",
    "book2 = Book(45)\n",
    "print(book1 + book2)\n",
    "print(book2 < book1)"
   ]
  },
  {
   "cell_type": "markdown",
   "metadata": {},
   "source": [
    "# Encapsulation"
   ]
  },
  {
   "cell_type": "code",
   "execution_count": 49,
   "metadata": {},
   "outputs": [
    {
     "name": "stdout",
     "output_type": "stream",
     "text": [
      "90.3\n",
      "0\n",
      "90.3\n",
      "0\n"
     ]
    }
   ],
   "source": [
    "# Without encapsulation\n",
    "class Payment:\n",
    "    def __init__(self, price):\n",
    "        self.price = price\n",
    "        self.final_pay = price + price * 0.05\n",
    "        \n",
    "pay = Payment(86)\n",
    "print(pay.final_pay)\n",
    "\n",
    "pay.price = 0\n",
    "print(pay.price)\n",
    "print(pay.final_pay)\n",
    "\n",
    "pay.final_pay = 0\n",
    "print(pay.final_pay)"
   ]
  },
  {
   "cell_type": "code",
   "execution_count": 50,
   "metadata": {},
   "outputs": [],
   "source": [
    "# Private variable\n",
    "class Payment:\n",
    "    def __init__(self, price):\n",
    "        self.__price = price   # beginning with double underscore means private\n",
    "        self.__final_pay = price + price * 0.05\n",
    "        \n",
    "pay = Payment(86)\n",
    "# print(pay.__final_pay) # Error: no such attr"
   ]
  },
  {
   "cell_type": "code",
   "execution_count": 54,
   "metadata": {},
   "outputs": [
    {
     "name": "stdout",
     "output_type": "stream",
     "text": [
      "before discount: 90.3\n",
      "after discount: 73.1\n"
     ]
    }
   ],
   "source": [
    "# Good Encapsulation\n",
    "class Payment:\n",
    "    def __init__(self, price):\n",
    "        self.__price = price\n",
    "        self.__final_pay = self.__price + self.__price * 0.05\n",
    "        \n",
    "    def __calculate_discount(self, discount):\n",
    "        return self.__price * discount/100\n",
    "        \n",
    "    def set_final_pay(self, discount):\n",
    "        self.__final_pay = self.__final_pay - self.__calculate_discount(discount)\n",
    "        \n",
    "    def get_final_pay(self):\n",
    "        return self.__final_pay\n",
    "    \n",
    "pay = Payment(86)\n",
    "print(f\"before discount: {pay.get_final_pay()}\")\n",
    "\n",
    "pay.set_final_pay(20)\n",
    "print(f\"after discount: {pay.get_final_pay()}\")"
   ]
  },
  {
   "cell_type": "markdown",
   "metadata": {},
   "source": [
    "# Polymorphism\n",
    "\n",
    "This means a change from one form to another form. (dynamic polymorphism: dynamically in running time)"
   ]
  },
  {
   "cell_type": "code",
   "execution_count": 67,
   "metadata": {},
   "outputs": [
    {
     "name": "stdout",
     "output_type": "stream",
     "text": [
      "Bonjour\n",
      "你好\n"
     ]
    }
   ],
   "source": [
    "class Language:\n",
    "    def say_hello(self):\n",
    "        raise NotImplementedError(\"Please use say_hello in child class...\")\n",
    "        \n",
    "class French(Language):\n",
    "    def say_hello(self):\n",
    "        print(\"Bonjour\")\n",
    "    \n",
    "class Chinese(Language):\n",
    "    def say_hello(self):\n",
    "        print(\"你好\")\n",
    "    \n",
    "class Japanese(Language):\n",
    "    pass\n",
    "\n",
    "# polymorphism\n",
    "def intro(lang):\n",
    "    lang.say_hello()\n",
    "    \n",
    "John = French()\n",
    "Atom = Chinese()\n",
    "Sheldon = Japanese()\n",
    "\n",
    "intro(John)\n",
    "intro(Atom)\n",
    "# intro(Sheldon)"
   ]
  },
  {
   "cell_type": "markdown",
   "metadata": {},
   "source": [
    "# Decorators"
   ]
  },
  {
   "cell_type": "code",
   "execution_count": 70,
   "metadata": {},
   "outputs": [
    {
     "name": "stdout",
     "output_type": "stream",
     "text": [
      "7\n"
     ]
    }
   ],
   "source": [
    "# nested function\n",
    "def operation(opt_type):\n",
    "        \n",
    "    def add(n1, n2):\n",
    "        return n1 + n2\n",
    "        \n",
    "    def sub(n1, n2):\n",
    "        return n1 + n2\n",
    "    \n",
    "    if opt_type == \"add\":\n",
    "        return add\n",
    "    elif opt_type == \"sub\":\n",
    "        return sub\n",
    "\n",
    "opt = operation(\"add\")\n",
    "print(opt(3, 4))"
   ]
  },
  {
   "cell_type": "code",
   "execution_count": 5,
   "metadata": {},
   "outputs": [
    {
     "name": "stdout",
     "output_type": "stream",
     "text": [
      "<function decorator.<locals>.dummy at 0x7fd28a90a4c0>\n",
      "welcome!\n",
      "hello, I'm Jammy.\n",
      "nice to meet you!\n",
      "welcome!\n",
      "hello, I'm Sheldon.\n",
      "nice to meet you!\n"
     ]
    }
   ],
   "source": [
    "# an easy way to understand decorator\n",
    "def decorator(func):\n",
    "    def dummy(name):\n",
    "        print(\"welcome!\")\n",
    "        func(name)\n",
    "        print(\"nice to meet you!\")\n",
    "    return dummy\n",
    "\n",
    "def func(name):\n",
    "    print(f\"hello, I'm {name}.\")\n",
    "    \n",
    "x = decorator(func)\n",
    "print(x)\n",
    "\n",
    "x(\"Jammy\")\n",
    "x(\"Sheldon\")"
   ]
  },
  {
   "cell_type": "code",
   "execution_count": 6,
   "metadata": {},
   "outputs": [
    {
     "name": "stdout",
     "output_type": "stream",
     "text": [
      "<function decorator.<locals>.dummy at 0x7fd28a90a550>\n",
      "welcome!\n",
      "hello, I'm Jammy\n",
      "nice to meet you!\n",
      "welcome!\n",
      "hello, I'm Sheldon\n",
      "nice to meet you!\n"
     ]
    }
   ],
   "source": [
    "# a real decorator\n",
    "def decorator(func):\n",
    "    def dummy(name):\n",
    "        print(\"welcome!\")\n",
    "        func(name)\n",
    "        print(\"nice to meet you!\")\n",
    "    return dummy\n",
    "\n",
    "@decorator\n",
    "def func(name):\n",
    "    print(f\"hello, I'm {name}\")\n",
    "    \n",
    "print(func)\n",
    "\n",
    "func(\"Jammy\")\n",
    "func(\"Sheldon\")"
   ]
  },
  {
   "cell_type": "code",
   "execution_count": 27,
   "metadata": {},
   "outputs": [
    {
     "name": "stdout",
     "output_type": "stream",
     "text": [
      "multiply give result as 24\n",
      "add give result as 10\n"
     ]
    }
   ],
   "source": [
    "# another decorator example\n",
    "def add(func):\n",
    "    def dummy(*args):\n",
    "        res = sum(list(args))\n",
    "        func(\"add\", res)\n",
    "    return dummy\n",
    "\n",
    "def multi(func):\n",
    "    def dummy(*args):\n",
    "        res = 1\n",
    "        for arg in args:\n",
    "            res = res * arg\n",
    "        func(\"multiply\", res)\n",
    "    return dummy\n",
    "    \n",
    "@multi\n",
    "def operation(operation, res):\n",
    "    print(f\"{operation} give result as {res}\")    \n",
    "operation(1, 2, 3, 4)\n",
    "\n",
    "@add\n",
    "def operation(operation, res):\n",
    "    print(f\"{operation} give result as {res}\")\n",
    "operation(1, 2, 3, 4)"
   ]
  },
  {
   "cell_type": "code",
   "execution_count": 13,
   "metadata": {},
   "outputs": [
    {
     "name": "stdout",
     "output_type": "stream",
     "text": [
      "[1, 2, 3]\n"
     ]
    }
   ],
   "source": [
    "# about asterisk\n",
    "def dummy(*args):\n",
    "    print(list(args))\n",
    "dummy(1, 2, 3)"
   ]
  },
  {
   "cell_type": "markdown",
   "metadata": {},
   "source": [
    "# Property Decorator"
   ]
  },
  {
   "cell_type": "code",
   "execution_count": 28,
   "metadata": {},
   "outputs": [
    {
     "name": "stdout",
     "output_type": "stream",
     "text": [
      "paypal\n"
     ]
    }
   ],
   "source": [
    "# Without property decorator\n",
    "class Payment:\n",
    "    def __init__(self, method):\n",
    "        self.__method = method\n",
    "    \n",
    "    def get_method(self):\n",
    "        return self.__method\n",
    "    \n",
    "pay = Payment(\"paypal\")\n",
    "print(pay.get_method())"
   ]
  },
  {
   "cell_type": "code",
   "execution_count": 29,
   "metadata": {},
   "outputs": [
    {
     "name": "stdout",
     "output_type": "stream",
     "text": [
      "paypal\n",
      "stripe\n",
      "_\n"
     ]
    }
   ],
   "source": [
    "# Property decorator\n",
    "class Payment:\n",
    "    def __init__(self, method):\n",
    "        self.__method = method\n",
    "        \n",
    "    @property\n",
    "    def method(self):\n",
    "        return self.__method\n",
    "    \n",
    "    @method.setter\n",
    "    def method(self, method):\n",
    "        self.__method = method\n",
    "        \n",
    "    @method.deleter\n",
    "    def method(self):\n",
    "        self.__method = \"_\"\n",
    "        \n",
    "pay = Payment(\"paypal\")\n",
    "print(pay.method)\n",
    "\n",
    "pay.method = \"stripe\"\n",
    "print(pay.method)\n",
    "\n",
    "del pay.method\n",
    "print(pay.method)"
   ]
  },
  {
   "cell_type": "code",
   "execution_count": null,
   "metadata": {},
   "outputs": [],
   "source": []
  }
 ],
 "metadata": {
  "kernelspec": {
   "display_name": "Python 3",
   "language": "python",
   "name": "python3"
  },
  "language_info": {
   "codemirror_mode": {
    "name": "ipython",
    "version": 3
   },
   "file_extension": ".py",
   "mimetype": "text/x-python",
   "name": "python",
   "nbconvert_exporter": "python",
   "pygments_lexer": "ipython3",
   "version": "3.8.5"
  },
  "toc": {
   "base_numbering": 1,
   "nav_menu": {
    "height": "242px",
    "width": "301px"
   },
   "number_sections": true,
   "sideBar": true,
   "skip_h1_title": false,
   "title_cell": "Table of Contents",
   "title_sidebar": "Contents",
   "toc_cell": false,
   "toc_position": {},
   "toc_section_display": true,
   "toc_window_display": false
  }
 },
 "nbformat": 4,
 "nbformat_minor": 4
}
