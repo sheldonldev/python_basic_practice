{
 "cells": [
  {
   "cell_type": "code",
   "execution_count": 1,
   "metadata": {},
   "outputs": [],
   "source": [
    "str_to_int = {\n",
    "    \"零\":0,\n",
    "    \"一\":1,\n",
    "    \"二\":2,\n",
    "    \"两\":2,\n",
    "    \"三\":3,\n",
    "    \"四\":4,\n",
    "    \"五\":5,\n",
    "    \"六\":6,\n",
    "    \"七\":7,\n",
    "    \"八\":8,\n",
    "    \"九\":9,\n",
    "    \"十\":10,\n",
    "    \"百\":100,\n",
    "    \"千\":1000,\n",
    "    \"万\":10000,\n",
    "    \"亿\":100_000_000,\n",
    "}"
   ]
  },
  {
   "cell_type": "code",
   "execution_count": 3,
   "metadata": {},
   "outputs": [],
   "source": [
    "def trans_str_to_int(string):\n",
    "    if len(string) == 1:\n",
    "        return str_to_int[string]\n",
    "    elif \"万\" not in string:\n",
    "        pass\n",
    "    elif \"万\" in string:\n",
    "        pass"
   ]
  },
  {
   "cell_type": "code",
   "execution_count": 5,
   "metadata": {},
   "outputs": [
    {
     "name": "stdout",
     "output_type": "stream",
     "text": [
      "['五', '千', '八', '百', '一', '十', '二']\n"
     ]
    }
   ],
   "source": [
    "# string = \"三千两百五十三万五千八百一十二\"\n",
    "string = \"五千八百一十二\"\n",
    "chars = []\n",
    "for char in string:\n",
    "    chars.append(char)\n",
    "print(chars)"
   ]
  },
  {
   "cell_type": "code",
   "execution_count": 6,
   "metadata": {},
   "outputs": [
    {
     "name": "stdout",
     "output_type": "stream",
     "text": [
      "[5, 1000, 8, 100, 1, 10, 2]\n"
     ]
    }
   ],
   "source": [
    "numbers = []\n",
    "for char in chars:\n",
    "    numbers.append(str_to_int[char])\n",
    "print(numbers)"
   ]
  },
  {
   "cell_type": "code",
   "execution_count": 20,
   "metadata": {},
   "outputs": [
    {
     "name": "stdout",
     "output_type": "stream",
     "text": [
      "5000\n",
      "5800\n",
      "5810\n",
      "5812\n"
     ]
    }
   ],
   "source": [
    "total = 0\n",
    "for idx in range(0, len(numbers) - 1, 2):\n",
    "    temp = numbers[idx] * numbers[idx+1]\n",
    "    total += temp\n",
    "    print(total)\n",
    "total += str_to_int[chars[-1]]\n",
    "print(total)"
   ]
  },
  {
   "cell_type": "code",
   "execution_count": 28,
   "metadata": {},
   "outputs": [
    {
     "name": "stdout",
     "output_type": "stream",
     "text": [
      "3000\n",
      "200\n",
      "50\n",
      "30000\n",
      "5000\n",
      "800\n",
      "10\n"
     ]
    },
    {
     "ename": "IndexError",
     "evalue": "list index out of range",
     "output_type": "error",
     "traceback": [
      "\u001b[0;31m---------------------------------------------------------------------------\u001b[0m",
      "\u001b[0;31mIndexError\u001b[0m                                Traceback (most recent call last)",
      "\u001b[0;32m<ipython-input-28-ef36aa90600f>\u001b[0m in \u001b[0;36m<module>\u001b[0;34m\u001b[0m\n\u001b[1;32m      1\u001b[0m \u001b[0mtotal\u001b[0m \u001b[0;34m=\u001b[0m \u001b[0;36m0\u001b[0m\u001b[0;34m\u001b[0m\u001b[0;34m\u001b[0m\u001b[0m\n\u001b[1;32m      2\u001b[0m \u001b[0;32mfor\u001b[0m \u001b[0midx\u001b[0m \u001b[0;32min\u001b[0m \u001b[0mrange\u001b[0m\u001b[0;34m(\u001b[0m\u001b[0mlen\u001b[0m\u001b[0;34m(\u001b[0m\u001b[0mnumbers\u001b[0m\u001b[0;34m)\u001b[0m\u001b[0;34m)\u001b[0m\u001b[0;34m:\u001b[0m\u001b[0;34m\u001b[0m\u001b[0;34m\u001b[0m\u001b[0m\n\u001b[0;32m----> 3\u001b[0;31m     \u001b[0;32mif\u001b[0m \u001b[0mnumbers\u001b[0m\u001b[0;34m[\u001b[0m\u001b[0midx\u001b[0m\u001b[0;34m+\u001b[0m\u001b[0;36m1\u001b[0m\u001b[0;34m]\u001b[0m \u001b[0;34m>=\u001b[0m \u001b[0;36m10\u001b[0m\u001b[0;34m:\u001b[0m\u001b[0;34m\u001b[0m\u001b[0;34m\u001b[0m\u001b[0m\n\u001b[0m\u001b[1;32m      4\u001b[0m         \u001b[0mtemp\u001b[0m \u001b[0;34m=\u001b[0m \u001b[0mnumbers\u001b[0m\u001b[0;34m[\u001b[0m\u001b[0midx\u001b[0m\u001b[0;34m]\u001b[0m \u001b[0;34m*\u001b[0m \u001b[0mnumbers\u001b[0m\u001b[0;34m[\u001b[0m\u001b[0midx\u001b[0m\u001b[0;34m+\u001b[0m\u001b[0;36m1\u001b[0m\u001b[0;34m]\u001b[0m\u001b[0;34m\u001b[0m\u001b[0;34m\u001b[0m\u001b[0m\n\u001b[1;32m      5\u001b[0m         \u001b[0mprint\u001b[0m\u001b[0;34m(\u001b[0m\u001b[0mtemp\u001b[0m\u001b[0;34m)\u001b[0m\u001b[0;34m\u001b[0m\u001b[0;34m\u001b[0m\u001b[0m\n",
      "\u001b[0;31mIndexError\u001b[0m: list index out of range"
     ]
    }
   ],
   "source": [
    "if \"万\" in string:\n",
    "    string.split(\"万\")\n",
    "    total = 0\n",
    "    for idx in range(len(numbers)):\n",
    "        if numbers[idx+1] >= 10:\n",
    "            temp = numbers[idx] * numbers[idx+1]\n",
    "            print(temp)"
   ]
  },
  {
   "cell_type": "code",
   "execution_count": 24,
   "metadata": {},
   "outputs": [
    {
     "data": {
      "text/plain": [
       "10"
      ]
     },
     "execution_count": 24,
     "metadata": {},
     "output_type": "execute_result"
    }
   ],
   "source": [
    "trans_str_to_int(\"十\")\n",
    "    "
   ]
  },
  {
   "cell_type": "code",
   "execution_count": null,
   "metadata": {},
   "outputs": [],
   "source": [
    "def chstring2int(uchar):\n",
    "    ##1）按亿、万分割字符\n",
    "    sep_char = re.split(r'亿|万',uchar)\n",
    "    total_sum = 0\n",
    "    for i,sc in enumerate(sep_char):\n",
    "        ##print(\"level 1:{}-----{}\".format(i,sc))\n",
    "        ##2）对每一部分进行转化处理，比如第二部分[ \"三千二百四十二\"]\n",
    "        split_num = sc.replace('千', '1000').replace('百', '100').replace('十', '10')\n",
    "        int_series = re.split(r'(\\d{1,})', split_num)\n",
    "        int_series.append(\"\")\n",
    "        int_series = [\"\".join(i) for i in zip(int_series[0::2],int_series[1::2])]\n",
    "        int_series = ['零' if i == '' else i for i in int_series]\n",
    "        num = 0\n",
    "        ##int_series：[\"三1000\", \"二100\", \"四10\", \"二\"]\n",
    "        ##3）求和加总int_series\n",
    "        for ix, it in enumerate(int_series):\n",
    "            it = re.sub('零', '', it) if it != '零' else it\n",
    "            ##print(\"level 2:{}{}\".format(ix,it))\n",
    "            temp = common_used_numerals_tmp[it[0]]*int(it[1:]) if len(it)>1 else common_used_numerals_tmp[it[0]]\n",
    "            num += temp\n",
    "            ##print(\"transformed part sum %s\"%str(num))\n",
    "        total_sum += num * (10 ** (4*(len(sep_char) - i - 1)))\n",
    "    return total_sum"
   ]
  }
 ],
 "metadata": {
  "kernelspec": {
   "display_name": "Python 3",
   "language": "python",
   "name": "python3"
  },
  "language_info": {
   "codemirror_mode": {
    "name": "ipython",
    "version": 3
   },
   "file_extension": ".py",
   "mimetype": "text/x-python",
   "name": "python",
   "nbconvert_exporter": "python",
   "pygments_lexer": "ipython3",
   "version": "3.8.5"
  },
  "toc": {
   "base_numbering": 1,
   "nav_menu": {},
   "number_sections": true,
   "sideBar": true,
   "skip_h1_title": false,
   "title_cell": "Table of Contents",
   "title_sidebar": "Contents",
   "toc_cell": false,
   "toc_position": {},
   "toc_section_display": true,
   "toc_window_display": false
  }
 },
 "nbformat": 4,
 "nbformat_minor": 4
}
