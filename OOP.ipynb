{
 "cells": [
  {
   "cell_type": "markdown",
   "metadata": {},
   "source": [
    "4 basics of Object Oriented Programming:\n",
    "- Encapsulation\n",
    "- Inheritance\n",
    "- Polymorphism\n",
    "- Abstraction"
   ]
  },
  {
   "cell_type": "markdown",
   "metadata": {},
   "source": [
    "# Classes and Objects"
   ]
  },
  {
   "cell_type": "code",
   "execution_count": 1,
   "metadata": {},
   "outputs": [
    {
     "name": "stdout",
     "output_type": "stream",
     "text": [
      "Ignited Minds\n",
      "Python Guide\n",
      "JavaScript Handbook\n"
     ]
    }
   ],
   "source": [
    "# class is the blue print of an object\n",
    "\n",
    "class Book:\n",
    "    name = \"Ignited Minds\"\n",
    "    \n",
    "book1 = Book()\n",
    "print(book1.name)\n",
    "\n",
    "book2 = Book()\n",
    "book2.name = \"Python Guides\"\n",
    "print(book2.name)\n",
    "\n",
    "book3 = Book()\n",
    "book3.name = \"JavaScript Handbook\"\n",
    "print(book3.name)"
   ]
  },
  {
   "cell_type": "code",
   "execution_count": 2,
   "metadata": {},
   "outputs": [
    {
     "name": "stdout",
     "output_type": "stream",
     "text": [
      "Python Guides\n",
      "JavaScript Handbook\n"
     ]
    }
   ],
   "source": [
    "# a better way is to use __init__(), parameters can be passed as an object is created\n",
    "\n",
    "class Book:\n",
    "    def __init__(self, name=\"Ignited Minds\"):\n",
    "        self.name = name\n",
    "        \n",
    "book1 = Book(\"Python Guides\")\n",
    "print(book1.name)\n",
    "\n",
    "book2 = Book(\"JavaScript Handbook\")\n",
    "print(book2.name)"
   ]
  },
  {
   "cell_type": "markdown",
   "metadata": {},
   "source": [
    "# Inheretance"
   ]
  },
  {
   "cell_type": "code",
   "execution_count": 24,
   "metadata": {},
   "outputs": [
    {
     "name": "stdout",
     "output_type": "stream",
     "text": [
      "60\n",
      "259.80762113533166\n",
      "40\n",
      "100.00000000000001\n",
      "30\n",
      "43.301270189221945\n",
      "True\n",
      "False\n",
      "True\n",
      "True\n",
      "False\n",
      "True\n",
      "True\n",
      "True\n"
     ]
    }
   ],
   "source": [
    "import math\n",
    "\n",
    "class RegularPolygon:\n",
    "    def __init__(self, sides, side_len):\n",
    "        self.sides = sides\n",
    "        self.side_len = side_len\n",
    "        self.perimeter = self.sides * self.side_len\n",
    "        \n",
    "    def area(self):\n",
    "        r = (self.side_len * 0.5) / math.tan( math.pi/self.sides )\n",
    "        return r * self.perimeter / 2\n",
    "        \n",
    "class Square(RegularPolygon):\n",
    "    def __init__(self, side_len):              # init method has been overwritten\n",
    "        self.sides = 4\n",
    "        super().__init__(self.sides, side_len) # while still inherit from parents\n",
    "\n",
    "class Triangle(RegularPolygon):\n",
    "    pass\n",
    "        \n",
    "hexagon = Polygon(6, 10)\n",
    "print(hexagon.perimeter)\n",
    "print(hexagon.area())\n",
    "        \n",
    "square = Square(10)\n",
    "print(square.perimeter)  # inherit from parent through super().__init__()\n",
    "print(square.area())     # inherit from parent through the methods not overwritten\n",
    "\n",
    "triangle = Triangle(3, 10)\n",
    "print(triangle.perimeter)\n",
    "print(triangle.area())\n",
    "\n",
    "# isinstance\n",
    "print(isinstance(square, Square))\n",
    "print(isinstance(triangle, Square))\n",
    "print(isinstance(square, RegularPolygon))\n",
    "print(isinstance(5, int))\n",
    "print(isinstance(5, float))\n",
    "\n",
    "# issubclass\n",
    "print(issubclass(Square, Square))\n",
    "print(issubclass(Triangle, RegularPolygon))\n",
    "print(issubclass(Square, RegularPolygon))"
   ]
  },
  {
   "cell_type": "markdown",
   "metadata": {},
   "source": [
    "# Multiple Inheritance"
   ]
  },
  {
   "cell_type": "code",
   "execution_count": 25,
   "metadata": {},
   "outputs": [
    {
     "name": "stdout",
     "output_type": "stream",
     "text": [
      "John\n",
      "32\n",
      "Hip-hop\n"
     ]
    }
   ],
   "source": [
    "class Person:\n",
    "    def __init__(self, name, age):\n",
    "        self.name = name\n",
    "        self.age = age\n",
    "        \n",
    "class Dancer:\n",
    "    def __init__(self, style):\n",
    "        self.style = style\n",
    "        \n",
    "class Student:\n",
    "    def __init__(self, name, age, style):\n",
    "        Person.__init__(self, name, age)\n",
    "        Dancer.__init__(self, style)\n",
    "        \n",
    "John = Student(\"John\", 32, \"Hip-hop\")\n",
    "print(John.name)\n",
    "print(John.age)\n",
    "print(John.style)"
   ]
  },
  {
   "cell_type": "markdown",
   "metadata": {},
   "source": [
    "# Operator Overloading"
   ]
  },
  {
   "cell_type": "code",
   "execution_count": 28,
   "metadata": {},
   "outputs": [
    {
     "name": "stdout",
     "output_type": "stream",
     "text": [
      "68\n"
     ]
    }
   ],
   "source": [
    "# Without Overloading\n",
    "class Book:\n",
    "    def __init__(self, price):\n",
    "        self.price = price\n",
    "\n",
    "book1 = Book(23)\n",
    "book2 = Book(45)\n",
    "\n",
    "total = book1.price + book2.price\n",
    "print(total)"
   ]
  },
  {
   "cell_type": "code",
   "execution_count": 34,
   "metadata": {},
   "outputs": [],
   "source": [
    "# try this\n",
    "# dir(int)"
   ]
  },
  {
   "cell_type": "code",
   "execution_count": 38,
   "metadata": {},
   "outputs": [
    {
     "name": "stdout",
     "output_type": "stream",
     "text": [
      "68\n",
      "False\n"
     ]
    }
   ],
   "source": [
    "# With Overloading\n",
    "class Book:\n",
    "    def __init__(self, price):\n",
    "        self.price = price\n",
    "\n",
    "    def __add__(self, other): # overwrite the default __add__\n",
    "        return self.price + other.price\n",
    "    \n",
    "    def __lt__(self, other):\n",
    "        return self.price < other.price\n",
    "        \n",
    "book1 = Book(23)\n",
    "book2 = Book(45)\n",
    "print(book1 + book2)\n",
    "print(book2 < book1)"
   ]
  },
  {
   "cell_type": "markdown",
   "metadata": {},
   "source": [
    "# Encapsulation"
   ]
  },
  {
   "cell_type": "code",
   "execution_count": null,
   "metadata": {},
   "outputs": [],
   "source": []
  }
 ],
 "metadata": {
  "kernelspec": {
   "display_name": "Python 3",
   "language": "python",
   "name": "python3"
  },
  "language_info": {
   "codemirror_mode": {
    "name": "ipython",
    "version": 3
   },
   "file_extension": ".py",
   "mimetype": "text/x-python",
   "name": "python",
   "nbconvert_exporter": "python",
   "pygments_lexer": "ipython3",
   "version": "3.8.5"
  },
  "toc": {
   "base_numbering": 1,
   "nav_menu": {
    "height": "242px",
    "width": "301px"
   },
   "number_sections": true,
   "sideBar": true,
   "skip_h1_title": false,
   "title_cell": "Table of Contents",
   "title_sidebar": "Contents",
   "toc_cell": false,
   "toc_position": {},
   "toc_section_display": true,
   "toc_window_display": false
  }
 },
 "nbformat": 4,
 "nbformat_minor": 4
}
