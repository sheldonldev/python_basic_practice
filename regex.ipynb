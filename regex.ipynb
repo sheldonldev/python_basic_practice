{
 "cells": [
  {
   "cell_type": "markdown",
   "metadata": {},
   "source": [
    "https://www.youtube.com/watch?v=AEE9ecgLgdQ"
   ]
  },
  {
   "cell_type": "markdown",
   "metadata": {},
   "source": [
    "# Introduction\n",
    "\n",
    "- re module\n",
    "- Methods to search for matches\n",
    "- Methods on a match object\n",
    "- Meta characters\n",
    "- More special sequences\n",
    "- Sets\n",
    "- Quantifier\n",
    "- Conditions\n",
    "- Grouping\n",
    "- Modification\n",
    "- Compilation flags"
   ]
  },
  {
   "cell_type": "code",
   "execution_count": 1,
   "metadata": {},
   "outputs": [],
   "source": [
    "import re\n",
    "import inspect"
   ]
  },
  {
   "cell_type": "code",
   "execution_count": 29,
   "metadata": {},
   "outputs": [],
   "source": [
    "def info(func):\n",
    "    \"\"\"\n",
    "    decorator to print type of the result\n",
    "    \"\"\"\n",
    "    def dummy(*args):\n",
    "        res = func(*args)\n",
    "        print()\n",
    "        print(\"result\", res)\n",
    "        print(\"type\", type(res))\n",
    "        return res\n",
    "    return dummy"
   ]
  },
  {
   "cell_type": "markdown",
   "metadata": {},
   "source": [
    "## Methods on a Match\n",
    "\n",
    "- `match()`: if the RE matches at the beginning of the string.\n",
    "- `search()`: scan through a string, looking for any location where this RE matchs.\n",
    "- `findall()`: find all substring where the RE matches, and reterns them as a list.\n",
    "- `finditer()`: find all substring where the RE matches, and reterns them as a iterator."
   ]
  },
  {
   "cell_type": "markdown",
   "metadata": {},
   "source": [
    "### finditer()\n",
    "\n",
    "- return iterable match object"
   ]
  },
  {
   "cell_type": "code",
   "execution_count": 25,
   "metadata": {},
   "outputs": [],
   "source": [
    "text = '123abc456789abc123ABC'\n",
    "reg = r'abc'  # `r` here means this is the raw string"
   ]
  },
  {
   "cell_type": "code",
   "execution_count": 24,
   "metadata": {},
   "outputs": [
    {
     "name": "stdout",
     "output_type": "stream",
     "text": [
      "<callable_iterator object at 0x7ff9ccf2afd0>\n",
      "<class 'callable_iterator'>\n",
      "<re.Match object; span=(3, 6), match='abc'>\n",
      "<re.Match object; span=(12, 15), match='abc'>\n"
     ]
    }
   ],
   "source": [
    "@info\n",
    "def re_(text, reg):\n",
    "    pattern = re.compile(reg)\n",
    "    matches = pattern.finditer(text)\n",
    "    \n",
    "    # above two lines equal to `matches = re.finditer(reg, text)`\n",
    "    return matches\n",
    "\n",
    "\n",
    "matches = re_(text, reg)\n",
    "for match in matches:\n",
    "    print(match)"
   ]
  },
  {
   "cell_type": "markdown",
   "metadata": {},
   "source": [
    "### findall()\n",
    "\n",
    "- return list"
   ]
  },
  {
   "cell_type": "code",
   "execution_count": 26,
   "metadata": {},
   "outputs": [
    {
     "name": "stdout",
     "output_type": "stream",
     "text": [
      "['abc', 'abc']\n",
      "<class 'list'>\n",
      "abc\n",
      "abc\n"
     ]
    }
   ],
   "source": [
    "@info\n",
    "def re_(text, reg):\n",
    "    pattern = re.compile(reg)\n",
    "    matches = pattern.findall(text)\n",
    "    return matches\n",
    "\n",
    "matches = re_(text, reg)\n",
    "for match in matches:\n",
    "    print(match)"
   ]
  },
  {
   "cell_type": "markdown",
   "metadata": {},
   "source": [
    "### match()\n",
    "\n",
    "- only match the beginning of the text, return match object."
   ]
  },
  {
   "cell_type": "code",
   "execution_count": 30,
   "metadata": {},
   "outputs": [
    {
     "name": "stdout",
     "output_type": "stream",
     "text": [
      "result None\n",
      "type <class 'NoneType'>\n",
      "\n",
      "None\n",
      "result <re.Match object; span=(0, 3), match='123'>\n",
      "type <class 're.Match'>\n",
      "\n",
      "<re.Match object; span=(0, 3), match='123'>\n",
      "result <re.Match object; span=(0, 6), match='123abc'>\n",
      "type <class 're.Match'>\n",
      "\n",
      "<re.Match object; span=(0, 6), match='123abc'>\n"
     ]
    }
   ],
   "source": [
    "@info\n",
    "def re_(text, reg):\n",
    "    patterns = re.compile(reg)\n",
    "    match = patterns.match(text)\n",
    "    return match\n",
    "\n",
    "match = re_(text, r'abc')\n",
    "print(match)\n",
    "\n",
    "match = re_(text, r'123')\n",
    "print(match)\n",
    "\n",
    "match = re_(text, '[0-9]*abc')\n",
    "print(match)"
   ]
  },
  {
   "cell_type": "code",
   "execution_count": 2,
   "metadata": {},
   "outputs": [],
   "source": [
    "test_str = 'python-engineer.com'"
   ]
  },
  {
   "cell_type": "code",
   "execution_count": 3,
   "metadata": {},
   "outputs": [],
   "source": [
    "test_str = 'hello 123_ heyho heyho'"
   ]
  },
  {
   "cell_type": "code",
   "execution_count": null,
   "metadata": {},
   "outputs": [],
   "source": [
    "test_str = 'hello 123_'"
   ]
  }
 ],
 "metadata": {
  "kernelspec": {
   "display_name": "Python 3",
   "language": "python",
   "name": "python3"
  },
  "language_info": {
   "codemirror_mode": {
    "name": "ipython",
    "version": 3
   },
   "file_extension": ".py",
   "mimetype": "text/x-python",
   "name": "python",
   "nbconvert_exporter": "python",
   "pygments_lexer": "ipython3",
   "version": "3.8.5"
  },
  "toc": {
   "base_numbering": 1,
   "nav_menu": {},
   "number_sections": true,
   "sideBar": true,
   "skip_h1_title": false,
   "title_cell": "Table of Contents",
   "title_sidebar": "Contents",
   "toc_cell": false,
   "toc_position": {},
   "toc_section_display": true,
   "toc_window_display": false
  }
 },
 "nbformat": 4,
 "nbformat_minor": 4
}
