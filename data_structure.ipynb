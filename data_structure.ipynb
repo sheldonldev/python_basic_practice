{
 "cells": [
  {
   "cell_type": "markdown",
   "metadata": {},
   "source": [
    "# Sequences: Str, List, Tuple\n",
    "\n",
    "- Str: immutable,\n",
    "- List: mutable,\n",
    "- Tuple: immutable,\n",
    "\n",
    "## Indexing"
   ]
  },
  {
   "cell_type": "code",
   "execution_count": 2,
   "metadata": {},
   "outputs": [
    {
     "name": "stdout",
     "output_type": "stream",
     "text": [
      "c\n",
      "how are you\n",
      "meet\n"
     ]
    }
   ],
   "source": [
    "x = \"abc\"\n",
    "print(x[2])\n",
    "y = [\"hello\", \"world\", \"how are you\"]\n",
    "print(y[2])\n",
    "z = (\"nice\", \"to\", \"meet\", \"you\")\n",
    "print(z[2])"
   ]
  },
  {
   "cell_type": "markdown",
   "metadata": {},
   "source": [
    "## Slicing"
   ]
  },
  {
   "cell_type": "code",
   "execution_count": 5,
   "metadata": {},
   "outputs": [
    {
     "name": "stdout",
     "output_type": "stream",
     "text": [
      "012\n",
      "3456789\n",
      "0123456\n",
      "789\n",
      "3456\n",
      "0369\n",
      "14\n"
     ]
    }
   ],
   "source": [
    "x = \"0123456789\"\n",
    "print(x[:3])\n",
    "print(x[3:])\n",
    "print(x[:-3])\n",
    "print(x[-3:])\n",
    "print(x[3:-3])\n",
    "print(x[::3])  # last one is step\n",
    "print(x[1:6:3])"
   ]
  },
  {
   "cell_type": "markdown",
   "metadata": {},
   "source": [
    "## Adding / Concatinating"
   ]
  },
  {
   "cell_type": "code",
   "execution_count": 8,
   "metadata": {},
   "outputs": [
    {
     "name": "stdout",
     "output_type": "stream",
     "text": [
      "abcdef\n",
      "['abc', 'def', 'hi', 'jk']\n",
      "('how', 'are', 'you')\n"
     ]
    }
   ],
   "source": [
    "# str\n",
    "x = \"abc\" + \"def\"\n",
    "print(x)\n",
    "\n",
    "# list\n",
    "y = [\"abc\", \"def\"] + [\"hi\", \"jk\"]\n",
    "print(y)\n",
    "\n",
    "# tuple\n",
    "z = (\"how\", \"are\") + (\"you\",) # single element with trailing commer tells this is a tuple\n",
    "print(z)"
   ]
  },
  {
   "cell_type": "markdown",
   "metadata": {},
   "source": [
    "## Multiplying"
   ]
  },
  {
   "cell_type": "code",
   "execution_count": 9,
   "metadata": {},
   "outputs": [
    {
     "name": "stdout",
     "output_type": "stream",
     "text": [
      "abcabcabc\n",
      "['abc', 'def', 'g', 'abc', 'def', 'g', 'abc', 'def', 'g']\n",
      "('how', 'are', 'you', 'how', 'are', 'you', 'how', 'are', 'you')\n"
     ]
    }
   ],
   "source": [
    "x = \"abc\" * 3\n",
    "print(x)\n",
    "\n",
    "y = [\"abc\", \"def\", \"g\"] * 3\n",
    "print(y)\n",
    "\n",
    "z = (\"how\", \"are\", \"you\") * 3\n",
    "print(z)"
   ]
  },
  {
   "cell_type": "markdown",
   "metadata": {},
   "source": [
    "## Checking Membership"
   ]
  },
  {
   "cell_type": "code",
   "execution_count": 11,
   "metadata": {},
   "outputs": [
    {
     "name": "stdout",
     "output_type": "stream",
     "text": [
      "True\n",
      "False\n",
      "True\n"
     ]
    }
   ],
   "source": [
    "x = \"bug\"\n",
    "print(\"u\" in x)\n",
    "\n",
    "y = [\"small\", \"large\"]\n",
    "print(\"small\" not in y)\n",
    "\n",
    "z = (\"apple\", \"banana\", \"orange\")\n",
    "print(\"apple\" in z)"
   ]
  },
  {
   "cell_type": "markdown",
   "metadata": {},
   "source": [
    "## Iterating"
   ]
  },
  {
   "cell_type": "code",
   "execution_count": 14,
   "metadata": {},
   "outputs": [
    {
     "name": "stdout",
     "output_type": "stream",
     "text": [
      "this\n",
      "is\n",
      "the\n",
      "example\n",
      "0 this\n",
      "1 is\n",
      "2 the\n",
      "3 example\n"
     ]
    }
   ],
   "source": [
    "x = [\"this\", \"is\", \"the\", \"example\"]\n",
    "for item in x:\n",
    "    print(item)\n",
    "\n",
    "for index, item in enumerate(x):\n",
    "    print(index, item)"
   ]
  },
  {
   "cell_type": "markdown",
   "metadata": {},
   "source": [
    "## Number of Items"
   ]
  },
  {
   "cell_type": "code",
   "execution_count": 15,
   "metadata": {},
   "outputs": [
    {
     "name": "stdout",
     "output_type": "stream",
     "text": [
      "11\n",
      "6\n",
      "3\n"
     ]
    }
   ],
   "source": [
    "x = \"hello world\"\n",
    "print(len(x))\n",
    "\n",
    "y = [1,3,5,2,4,6]\n",
    "print(len(y))\n",
    "\n",
    "z = (\"apple\", \"banana\", \"orange\")\n",
    "print(len(z))"
   ]
  },
  {
   "cell_type": "markdown",
   "metadata": {},
   "source": [
    "## Min / Max / Sum\n",
    "- min/max: alpha or number, but not mixing\n",
    "- sum: must be numeric"
   ]
  },
  {
   "cell_type": "code",
   "execution_count": 20,
   "metadata": {},
   "outputs": [
    {
     "name": "stdout",
     "output_type": "stream",
     "text": [
      "_\n",
      "x\n",
      "23\n",
      "98\n",
      "34\n",
      "1\n",
      "5\n",
      "15\n"
     ]
    }
   ],
   "source": [
    "x = \"this_is_the_example\"\n",
    "print(min(x))\n",
    "print(max(x))\n",
    "# print(sum(x)) # Err\n",
    "\n",
    "y = [23, 56, 34, 98]\n",
    "print(min(y))\n",
    "print(max(y))\n",
    "print(sum(y[2:-1:2]))\n",
    "\n",
    "z = (1, 2, 3, 4, 5)\n",
    "print(min(z))\n",
    "print(max(z))\n",
    "print(sum(z))"
   ]
  },
  {
   "cell_type": "markdown",
   "metadata": {},
   "source": [
    "## Sorting\n",
    "\n",
    "- same type"
   ]
  },
  {
   "cell_type": "code",
   "execution_count": 28,
   "metadata": {},
   "outputs": [
    {
     "name": "stdout",
     "output_type": "stream",
     "text": [
      "[' ', 'd', 'e', 'h', 'l', 'l', 'l', 'o', 'o', 'r', 'w']\n",
      "hello world\n",
      "[0, 1, 2, 4, 4, 6]\n",
      "[1, 4, 4, 6, 2, 0]\n",
      "['atom', 'dad', 'mom']\n",
      "['mom', 'dad', 'atom']\n",
      "['dad', 'mom', 'atom']\n"
     ]
    }
   ],
   "source": [
    "x = \"hello world\"\n",
    "print(sorted(x))  # will turn list!\n",
    "print(x)          # stay unchanged\n",
    "\n",
    "y = [1,4,4,6,2,0]\n",
    "print(sorted(y))\n",
    "print(y)\n",
    "\n",
    "z = [\"mom\", \"dad\", \"atom\"]\n",
    "print(sorted(z))\n",
    "print(z)\n",
    "\n",
    "# sorted by second letter by using \"key\"\n",
    "print(sorted(z, key=lambda item: item[1]))"
   ]
  },
  {
   "cell_type": "code",
   "execution_count": 29,
   "metadata": {},
   "outputs": [
    {
     "name": "stdout",
     "output_type": "stream",
     "text": [
      "None\n",
      "[0, 1, 2, 4, 4, 6]\n",
      "None\n",
      "['atom', 'dad', 'mom']\n",
      "['dad', 'mom', 'atom']\n"
     ]
    }
   ],
   "source": [
    "x = \"hello world\"\n",
    "# print(x.sort()) # Error, str no sort()!\n",
    "\n",
    "y = [1,4,4,6,2,0]\n",
    "print(list.sort(y)) # No return value, None!\n",
    "print(y)            # only side effect\n",
    "\n",
    "z = [\"mom\", \"dad\", \"atom\"]\n",
    "print(list.sort(z)) # No return value, None!\n",
    "print(z)            # only side effect\n",
    "\n",
    "list.sort(z, key=lambda item: item[1]) # similar to sorted using \"key\"\n",
    "print(z)"
   ]
  },
  {
   "cell_type": "markdown",
   "metadata": {},
   "source": [
    "## Count"
   ]
  },
  {
   "cell_type": "code",
   "execution_count": 30,
   "metadata": {},
   "outputs": [
    {
     "name": "stdout",
     "output_type": "stream",
     "text": [
      "2\n",
      "0\n",
      "3\n"
     ]
    }
   ],
   "source": [
    "x = \"hiphop\"\n",
    "print(x.count(\"p\"))\n",
    "\n",
    "y = [\"dog\", \"cow\", \"horse\", \"dog\"]\n",
    "print(y.count(\"bird\")) # no error\n",
    "\n",
    "z = (0, 0, 2, 3, 6, 1, 0)\n",
    "print(z.count(0))"
   ]
  },
  {
   "cell_type": "markdown",
   "metadata": {},
   "source": [
    "## Find Index"
   ]
  },
  {
   "cell_type": "code",
   "execution_count": 33,
   "metadata": {},
   "outputs": [
    {
     "name": "stdout",
     "output_type": "stream",
     "text": [
      "2\n",
      "0\n",
      "-1\n"
     ]
    }
   ],
   "source": [
    "x = \"hiphop\"\n",
    "print(x.index(\"p\"))\n",
    "\n",
    "y = [\"dog\", \"cow\", \"horse\", \"dog\"]\n",
    "# print(y.index(\"bird\")) # Error!\n",
    "\n",
    "z = (0, 0, 2, 3, 6, 1, 0)\n",
    "print(z.index(0))\n",
    "\n",
    "# a way to index (when item may not exist)\n",
    "res = y.index(\"bird\") if \"bird\" in y else -1\n",
    "print(res)"
   ]
  },
  {
   "cell_type": "markdown",
   "metadata": {},
   "source": [
    "## Unpacking"
   ]
  },
  {
   "cell_type": "code",
   "execution_count": 36,
   "metadata": {},
   "outputs": [
    {
     "name": "stdout",
     "output_type": "stream",
     "text": [
      "3 6 9\n",
      "Bonny John\n"
     ]
    }
   ],
   "source": [
    "x = [3, 6, 9]\n",
    "a, b, c = x\n",
    "print(a, b, c)\n",
    "\n",
    "y = (\"Bonny\", \"John\")\n",
    "a, b = y\n",
    "print(a, b)"
   ]
  },
  {
   "cell_type": "markdown",
   "metadata": {},
   "source": [
    "# Lists\n",
    "\n",
    "- Sequence type;\n",
    "- Sortable;\n",
    "- Grow and shrink as needed;\n",
    "- Most widely used;\n",
    "- General purpose;\n",
    "\n",
    "__The important characteristics of Python lists are as follows:__\n",
    "- Lists are ordered. `[1, 2] != [2, 1]`\n",
    "- Lists can contain any arbitrary objects.\n",
    "- List elements can be accessed by index.\n",
    "- Lists can be nested to arbitrary depth.\n",
    "- Lists are mutable.\n",
    "- Lists are dynamic.\n",
    "\n",
    "## Constructor\n",
    "\n",
    "- Create a new list;"
   ]
  },
  {
   "cell_type": "code",
   "execution_count": 6,
   "metadata": {},
   "outputs": [
    {
     "name": "stdout",
     "output_type": "stream",
     "text": [
      "[]\n",
      "[1, 3, 5]\n",
      "[1]\n",
      "[0, 1, 2, 3, 4, 5, 6, 7, 8, 9]\n",
      "[25, 36, 49, 64, 81]\n"
     ]
    }
   ],
   "source": [
    "x = list()\n",
    "print(x)\n",
    "\n",
    "y = [1, 3, 5]\n",
    "print(y)\n",
    "\n",
    "z = (1,)\n",
    "z = list(z)\n",
    "print(z)\n",
    "\n",
    "a = [ x for x in range(10) ]\n",
    "print(a)\n",
    "\n",
    "b = [ x**2 for x in range(10) if x > 4 ]\n",
    "print(b)"
   ]
  },
  {
   "cell_type": "markdown",
   "metadata": {},
   "source": [
    "## Delete\n",
    "\n",
    "- Delete a list or an item;"
   ]
  },
  {
   "cell_type": "code",
   "execution_count": 10,
   "metadata": {},
   "outputs": [
    {
     "name": "stdout",
     "output_type": "stream",
     "text": [
      "['dog', 'cat', 'tiger']\n",
      "['dog', 'cat']\n"
     ]
    }
   ],
   "source": [
    "x = [\"dog\", \"cat\", \"monkey\", \"tiger\"]\n",
    "del x[2]\n",
    "print(x)\n",
    "del x[x.index(\"tiger\")]\n",
    "print(x)\n",
    "\n",
    "del x\n",
    "# print(x) x no longer exist"
   ]
  },
  {
   "cell_type": "markdown",
   "metadata": {},
   "source": [
    "## Append\n",
    "\n",
    "- append a item to a list"
   ]
  },
  {
   "cell_type": "code",
   "execution_count": 11,
   "metadata": {},
   "outputs": [
    {
     "name": "stdout",
     "output_type": "stream",
     "text": [
      "[1, 3, 5, 7, 9]\n"
     ]
    }
   ],
   "source": [
    "x = [1, 3, 5, 7]\n",
    "x.append(9)\n",
    "print(x)"
   ]
  },
  {
   "cell_type": "markdown",
   "metadata": {},
   "source": [
    "## Extend\n",
    "\n",
    "- append a sequence to a list"
   ]
  },
  {
   "cell_type": "code",
   "execution_count": 16,
   "metadata": {},
   "outputs": [
    {
     "name": "stdout",
     "output_type": "stream",
     "text": [
      "[1, 2, 3, 4, 5, 6]\n",
      "[2, 4, 6]\n",
      "['apple', 'cheeze', 3, 5, 4]\n",
      "[3, 5, 4]\n"
     ]
    }
   ],
   "source": [
    "x = [1, 3, 5]\n",
    "y = [2, 4, 6]\n",
    "x.extend(y)\n",
    "print(sorted(x))\n",
    "print(y)\n",
    "\n",
    "a = [\"apple\", \"cheeze\"]\n",
    "b = [3, 5, 4]\n",
    "a = a + b\n",
    "print(a)\n",
    "print(b)"
   ]
  },
  {
   "cell_type": "markdown",
   "metadata": {},
   "source": [
    "## Insert\n",
    "\n",
    "- Insert an item at a given index;"
   ]
  },
  {
   "cell_type": "code",
   "execution_count": 19,
   "metadata": {},
   "outputs": [
    {
     "name": "stdout",
     "output_type": "stream",
     "text": [
      "[4, 5, 6, 7, 9, 10]\n",
      "['name', ['hobby', 'food'], 'gender']\n"
     ]
    }
   ],
   "source": [
    "x = [4, 5, 6, 9, 10]\n",
    "x.insert(3, 7)\n",
    "print(x)\n",
    "\n",
    "x = [\"name\", \"gender\"]\n",
    "x.insert(1, [\"hobby\", \"food\"])\n",
    "print(x)"
   ]
  },
  {
   "cell_type": "markdown",
   "metadata": {},
   "source": [
    "## Pop\n",
    "\n",
    "- pops last item off list or of an index and return it;"
   ]
  },
  {
   "cell_type": "code",
   "execution_count": 27,
   "metadata": {},
   "outputs": [
    {
     "name": "stdout",
     "output_type": "stream",
     "text": [
      "blue\n",
      "[2, 4, 6, 'red']\n",
      "6\n",
      "[2, 4, 'red']\n"
     ]
    }
   ],
   "source": [
    "x = [2, 4, 6, \"red\", \"blue\"]\n",
    "poped = x.pop()\n",
    "print(poped)\n",
    "print(x)\n",
    "poped = x.pop(2)\n",
    "print(poped)\n",
    "print(x)"
   ]
  },
  {
   "cell_type": "markdown",
   "metadata": {},
   "source": [
    "## Remove\n",
    "\n",
    "- remove first instance of an item;"
   ]
  },
  {
   "cell_type": "code",
   "execution_count": 28,
   "metadata": {},
   "outputs": [
    {
     "name": "stdout",
     "output_type": "stream",
     "text": [
      "['blue', 'green', 'red']\n"
     ]
    }
   ],
   "source": [
    "x = [\"red\", \"blue\", \"green\", \"red\"]\n",
    "x.remove(\"red\")\n",
    "\n",
    "print(x)"
   ]
  },
  {
   "cell_type": "markdown",
   "metadata": {},
   "source": [
    "## Reverse\n",
    "\n",
    "- reverse the order, changes the original;"
   ]
  },
  {
   "cell_type": "code",
   "execution_count": 29,
   "metadata": {},
   "outputs": [
    {
     "name": "stdout",
     "output_type": "stream",
     "text": [
      "['red', 'green', 'blue']\n"
     ]
    }
   ],
   "source": [
    "x.reverse()\n",
    "print(x)"
   ]
  },
  {
   "cell_type": "markdown",
   "metadata": {},
   "source": [
    "## Sort\n",
    "\n",
    "- sort in place, not like sorted() which will create new;"
   ]
  },
  {
   "cell_type": "code",
   "execution_count": 31,
   "metadata": {},
   "outputs": [
    {
     "name": "stdout",
     "output_type": "stream",
     "text": [
      "[2, 3, 4, 5, 6]\n",
      "[6, 5, 4, 3, 2]\n"
     ]
    }
   ],
   "source": [
    "x = [3, 5, 4, 2, 6]\n",
    "x.sort()\n",
    "print(x)\n",
    "x.sort(reverse=True)\n",
    "print(x)"
   ]
  },
  {
   "cell_type": "markdown",
   "metadata": {},
   "source": [
    "# Tuples\n",
    "\n",
    "- Sequence;\n",
    "- Immutable (can't add / change);\n",
    "- Useful for fixed data;\n",
    "- Faster than list;"
   ]
  },
  {
   "cell_type": "markdown",
   "metadata": {},
   "source": [
    "## Constructor"
   ]
  },
  {
   "cell_type": "code",
   "execution_count": 36,
   "metadata": {},
   "outputs": [
    {
     "name": "stdout",
     "output_type": "stream",
     "text": [
      "() <class 'tuple'>\n",
      "1 <class 'int'>\n",
      "(1,) <class 'tuple'>\n",
      "(1, 2) <class 'tuple'>\n",
      "(1,) <class 'tuple'>\n",
      "(1, 2, 4) <class 'tuple'>\n",
      "(1, 2, 3) <class 'tuple'>\n"
     ]
    }
   ],
   "source": [
    "x = ()             # tuple\n",
    "print(x, type(x))\n",
    "\n",
    "x = (1)            # int\n",
    "print(x, type(x))\n",
    "\n",
    "x = (1,)           # comma\n",
    "print(x, type(x))\n",
    "\n",
    "x = (1, 2)\n",
    "print(x, type(x))\n",
    "\n",
    "x = 1,             # comma\n",
    "print(x, type(x))\n",
    "\n",
    "x = 1, 2, 4\n",
    "print(x, type(x))\n",
    "\n",
    "a = [1, 2, 3]\n",
    "x = tuple(a)\n",
    "print(x, type(x))"
   ]
  },
  {
   "cell_type": "markdown",
   "metadata": {},
   "source": [
    "## Immutable\n",
    "\n",
    "- but member objects may be mutable;\n",
    "- still can be concatenated;"
   ]
  },
  {
   "cell_type": "code",
   "execution_count": 42,
   "metadata": {},
   "outputs": [
    {
     "name": "stdout",
     "output_type": "stream",
     "text": [
      "(2, 4, 8, 0, 6, ['changed', 2, 3])\n",
      "('another', 'tuple', 2, 4, 8, 0, 6, ['changed', 2, 3])\n"
     ]
    }
   ],
   "source": [
    "x = (2, 4, 8, 0, 6, [1, 2, 3])\n",
    "# del x[2]   # Err\n",
    "# x[2] = 3   # Err\n",
    "\n",
    "x[5][0] = \"changed\"\n",
    "print(x)\n",
    "\n",
    "y = \"another\", \"tuple\"\n",
    "y += x\n",
    "print(y)\n",
    "\n",
    "z = \"third\", \"one\"\n",
    "# z.extend(y)  # Err, no methods like `extend` `append`...m"
   ]
  },
  {
   "cell_type": "markdown",
   "metadata": {},
   "source": [
    "# Sets\n",
    "\n",
    "- Store non-duplicated items;\n",
    "- Much faster than list;\n",
    "- Math set operations (union, intersect);\n",
    "- Unordered;"
   ]
  },
  {
   "cell_type": "code",
   "execution_count": 45,
   "metadata": {},
   "outputs": [
    {
     "name": "stdout",
     "output_type": "stream",
     "text": [
      "{0, 2, 4, 6}\n",
      "{}\n",
      "{3, 5}\n"
     ]
    }
   ],
   "source": [
    "x = {2, 4, 6, 0, 4, 6}\n",
    "print(x)\n",
    "\n",
    "x = {}\n",
    "print(x)\n",
    "\n",
    "x = [3, 5, 3, 5]\n",
    "x = set(x)\n",
    "print(x)"
   ]
  },
  {
   "cell_type": "markdown",
   "metadata": {},
   "source": [
    "## Set Operations"
   ]
  },
  {
   "cell_type": "code",
   "execution_count": 49,
   "metadata": {},
   "outputs": [
    {
     "name": "stdout",
     "output_type": "stream",
     "text": [
      "{3, 'green', 8, 'yellow', 20}\n",
      "5\n",
      "True\n",
      "3\n",
      "None\n"
     ]
    }
   ],
   "source": [
    "# add and remove\n",
    "x = {3, 8, 20, \"red\", \"yellow\"}\n",
    "x.add(\"green\")\n",
    "x.remove(\"red\")\n",
    "print(x)\n",
    "\n",
    "# len\n",
    "print(len(x))\n",
    "\n",
    "# membership\n",
    "print(\"green\" in x)\n",
    "\n",
    "# random pop\n",
    "print(x.pop())\n",
    "\n",
    "# delete all items\n",
    "print(x.clear())"
   ]
  },
  {
   "cell_type": "markdown",
   "metadata": {},
   "source": [
    "## Math Operation\n",
    "\n",
    "- Intersection (AND): set1 & set2\n",
    "- Union (OR): set1 | set2\n",
    "- Symmetric difference (XOR): set1 ^ set2\n",
    "- Difference: set1 - set2\n",
    "- Subset: set1 contains set2, set1 <= set2\n",
    "- Superset: set2 contains set1, set1 >= set2"
   ]
  },
  {
   "cell_type": "code",
   "execution_count": 50,
   "metadata": {},
   "outputs": [
    {
     "name": "stdout",
     "output_type": "stream",
     "text": [
      "{1, 3, 5}\n",
      "{1, 2, 3, 4, 5, 7, 9}\n",
      "{2, 4, 7, 9}\n",
      "{9, 7}\n",
      "False\n",
      "False\n"
     ]
    }
   ],
   "source": [
    "set1 = {1, 3, 5, 7, 9 }\n",
    "set2 = {1, 2, 3, 4, 5}\n",
    "\n",
    "print(set1 & set2)\n",
    "print(set1 | set2)\n",
    "print(set1 ^ set2)\n",
    "print(set1 - set2)\n",
    "print(set1 <= set2)\n",
    "print(set1 >= set2)"
   ]
  },
  {
   "cell_type": "markdown",
   "metadata": {},
   "source": [
    "# Dict\n",
    "\n",
    "- Key/Value pairs;\n",
    "- Associative array, like Java Hashmap;\n",
    "- Unordered;"
   ]
  },
  {
   "cell_type": "code",
   "execution_count": 51,
   "metadata": {},
   "outputs": [
    {
     "name": "stdout",
     "output_type": "stream",
     "text": [
      "{'name': 'John', 'age': 35, 'hopy': 'traveling'}\n",
      "{'name': 'John', 'age': 35, 'hoby': 'traveling'}\n",
      "{'name': 'John', 'age': 35, 'hoby': 'traveling'}\n"
     ]
    }
   ],
   "source": [
    "x = {\"name\": \"John\", \"age\":35, \"hopy\": \"traveling\"}\n",
    "print(x)\n",
    "\n",
    "x = dict([(\"name\", \"John\"), (\"age\", 35), (\"hoby\", \"traveling\")])\n",
    "print(x)\n",
    "\n",
    "x = dict(name=\"John\", age=35, hoby=\"traveling\")\n",
    "print(x)"
   ]
  },
  {
   "cell_type": "markdown",
   "metadata": {},
   "source": [
    "## Dict Operations"
   ]
  },
  {
   "cell_type": "code",
   "execution_count": 52,
   "metadata": {},
   "outputs": [
    {
     "name": "stdout",
     "output_type": "stream",
     "text": [
      "{'name': 'John', 'age': 35, 'hoby': 'traveling', 'shrimp': 34}\n",
      "{'name': 'John', 'age': 35, 'hoby': 'traveling'}\n",
      "{}\n"
     ]
    }
   ],
   "source": [
    "x['shrimp'] = 34 # create a new item\n",
    "print(x)\n",
    "\n",
    "del x['shrimp']\n",
    "print(x)\n",
    "\n",
    "x.clear()\n",
    "print(x)\n",
    "\n",
    "del x"
   ]
  },
  {
   "cell_type": "code",
   "execution_count": 55,
   "metadata": {},
   "outputs": [
    {
     "name": "stdout",
     "output_type": "stream",
     "text": [
      "dict_keys(['pork', 'beef', 'honey'])\n",
      "dict_values([35, 40, 20])\n",
      "dict_items([('pork', 35), ('beef', 40), ('honey', 20)])\n",
      "True\n",
      "True\n"
     ]
    }
   ],
   "source": [
    "x = {\"pork\": 35, \"beef\": 40, \"honey\": 20}\n",
    "print(x.keys())\n",
    "print(x.values())\n",
    "print(x.items())\n",
    "\n",
    "print(\"pork\" in x.keys())\n",
    "print(40 in x.values())"
   ]
  },
  {
   "cell_type": "code",
   "execution_count": 58,
   "metadata": {
    "scrolled": true
   },
   "outputs": [
    {
     "name": "stdout",
     "output_type": "stream",
     "text": [
      "pork 35\n",
      "beef 40\n",
      "honey 20\n",
      "pork 35\n",
      "beef 40\n",
      "honey 20\n"
     ]
    }
   ],
   "source": [
    "for key in x:\n",
    "    print(key, x[key])\n",
    "    \n",
    "for key, value in x.items():\n",
    "    print(key, value)"
   ]
  },
  {
   "cell_type": "markdown",
   "metadata": {},
   "source": [
    "# Stacks, Queuew, and Heaps\n",
    "\n",
    "## Stack Using Python List\n",
    "\n",
    "__stack is a LIFO data structure__\n",
    "\n",
    "- Add: push\n",
    "- Delete: pop\n",
    "- Search: peek\n",
    "- Clean: clear\n",
    "- Use case: undo"
   ]
  },
  {
   "cell_type": "code",
   "execution_count": 67,
   "metadata": {},
   "outputs": [
    {
     "name": "stdout",
     "output_type": "stream",
     "text": [
      "[]\n",
      "[1]\n",
      "[1, 2]\n",
      "[1, 2, 3]\n",
      "[1, 2]\n",
      "[1]\n",
      "[]\n"
     ]
    }
   ],
   "source": [
    "my_stack = list()\n",
    "print(my_stack)\n",
    "\n",
    "my_stack.append(1)\n",
    "print(my_stack)\n",
    "my_stack.append(2)\n",
    "print(my_stack)\n",
    "my_stack.append(3)\n",
    "print(my_stack)\n",
    "\n",
    "my_stack.pop()\n",
    "print(my_stack)\n",
    "my_stack.pop()\n",
    "print(my_stack)\n",
    "my_stack.pop()\n",
    "print(my_stack)"
   ]
  },
  {
   "cell_type": "code",
   "execution_count": 73,
   "metadata": {},
   "outputs": [
    {
     "name": "stdout",
     "output_type": "stream",
     "text": [
      "[]\n",
      "[1]\n",
      "[1, 2]\n",
      "[1, 2, 3]\n",
      "3\n",
      "3\n",
      "[1, 2]\n",
      "2\n",
      "[1]\n",
      "1\n",
      "[]\n"
     ]
    }
   ],
   "source": [
    "# with a wrapper class\n",
    "\n",
    "class Stack:\n",
    "    def __init__(self):\n",
    "        self.stack = list()\n",
    "    def push(self, item):\n",
    "        return self.stack.append(item)\n",
    "    def pop(self):\n",
    "        if len(self.stack) > 0:\n",
    "            return self.stack.pop()\n",
    "        else:\n",
    "            return None\n",
    "    def peek(self):\n",
    "        if len(self.stack) > 0:\n",
    "            return self.stack[-1]\n",
    "        else:\n",
    "            return None\n",
    "    def __str__(self):\n",
    "        return str(self.stack)\n",
    "        \n",
    "\n",
    "my_stack = Stack()\n",
    "print(my_stack)\n",
    "my_stack.push(1)\n",
    "print(my_stack)\n",
    "my_stack.push(2)\n",
    "print(my_stack)\n",
    "my_stack.push(3)\n",
    "print(my_stack)\n",
    "\n",
    "print(my_stack.peek())\n",
    "\n",
    "print(my_stack.pop())\n",
    "print(my_stack)\n",
    "print(my_stack.pop())\n",
    "print(my_stack)\n",
    "print(my_stack.pop())\n",
    "print(my_stack)"
   ]
  },
  {
   "cell_type": "markdown",
   "metadata": {},
   "source": [
    "## Queue\n",
    "\n",
    "__queue is a FIFO data structure__\n",
    "\n",
    "- equeue\n",
    "- dequeue\n",
    "- Use Case: bank teller, supermarket checkout"
   ]
  },
  {
   "cell_type": "code",
   "execution_count": 80,
   "metadata": {},
   "outputs": [
    {
     "name": "stdout",
     "output_type": "stream",
     "text": [
      "[]\n",
      "[1]\n",
      "[2, 1]\n",
      "[3, 2, 1]\n",
      "[3, 2]\n",
      "[3]\n",
      "[]\n",
      "deque([])\n",
      "deque([1])\n",
      "deque([1, 2])\n",
      "deque([1, 2, 3])\n",
      "deque([2, 3])\n",
      "deque([3])\n",
      "deque([])\n"
     ]
    }
   ],
   "source": [
    "# 1. \n",
    "\n",
    "my_queue = list()\n",
    "print(my_queue)\n",
    "my_queue.insert(0, 1)\n",
    "print(my_queue)\n",
    "my_queue.insert(0, 2)\n",
    "print(my_queue)\n",
    "my_queue.insert(0, 3)\n",
    "print(my_queue)\n",
    "\n",
    "my_queue.pop()\n",
    "print(my_queue)\n",
    "my_queue.pop()\n",
    "print(my_queue)\n",
    "my_queue.pop()\n",
    "print(my_queue)\n",
    "\n",
    "\n",
    "# 2. \n",
    "\n",
    "from collections import deque\n",
    "my_queue = deque()\n",
    "print(my_queue)\n",
    "my_queue.append(1)\n",
    "print(my_queue)\n",
    "my_queue.append(2)\n",
    "print(my_queue)\n",
    "my_queue.append(3)\n",
    "print(my_queue)\n",
    "\n",
    "my_queue.popleft()\n",
    "print(my_queue)\n",
    "my_queue.popleft()\n",
    "print(my_queue)\n",
    "my_queue.popleft()\n",
    "print(my_queue)"
   ]
  },
  {
   "cell_type": "code",
   "execution_count": 83,
   "metadata": {},
   "outputs": [
    {
     "name": "stdout",
     "output_type": "stream",
     "text": [
      "[]\n",
      "[1]\n",
      "[1, 2]\n",
      "[1, 2, 3]\n",
      "3\n",
      "1\n",
      "[2, 3]\n",
      "2\n",
      "[3]\n",
      "3\n",
      "[]\n"
     ]
    }
   ],
   "source": [
    "# wrapper class\n",
    "\n",
    "class Queue:\n",
    "    def __init__(self):\n",
    "        self.queue = list()\n",
    "    def equeue(self, item):\n",
    "        self.queue.append(item)\n",
    "    def dequeue(self):\n",
    "        if len(self.queue) > 0:\n",
    "            return self.queue.pop(0)\n",
    "        else:\n",
    "            return none\n",
    "    @property\n",
    "    def size(self):\n",
    "        return len(self.queue)\n",
    "    def __str__(self):\n",
    "        return str(self.queue)\n",
    "    \n",
    "my_queue = Queue()\n",
    "print(my_queue)\n",
    "my_queue.equeue(1)\n",
    "print(my_queue)\n",
    "my_queue.equeue(2)\n",
    "print(my_queue)\n",
    "my_queue.equeue(3)\n",
    "print(my_queue)\n",
    "\n",
    "print(my_queue.size)\n",
    "\n",
    "print(my_queue.dequeue())\n",
    "print(my_queue)\n",
    "print(my_queue.dequeue())\n",
    "print(my_queue)\n",
    "print(my_queue.dequeue())\n",
    "print(my_queue)"
   ]
  },
  {
   "cell_type": "markdown",
   "metadata": {},
   "source": [
    "## MaxHeap\n",
    "\n",
    "__a complete binary tree, every node is less or equal to its parents__\n",
    "\n",
    "- insert/remove: O(log n)\n",
    "- get or remove max: O(1)\n",
    "\n",
    "```\n",
    "        25\n",
    "    16      24\n",
    "  5   11   19  1\n",
    "2  3  5 \n",
    "\n",
    "index: 1. 2. 3. 4. 5. 6. 7. 8. 9. 10  \n",
    "value: 25 16 24 5  11 19 1  2  3   5\n",
    "\n",
    "idx = 4\n",
    "parent(idx) = floor(4 / 2) = 2\n",
    "left_child(idx) = idx * 2\n",
    "right_child(idx) = idx * 2 + 1\n",
    "```\n",
    "\n",
    "__methods__\n",
    "\n",
    "- push (insert)： add value to the end of array, float it up to its proper position\n",
    "- peek (get max): the first value in the array\n",
    "- pop (remove max): swap the first and last value, delete the last, bubble down the first to right position, return the first value;\n",
    "\n",
    "__python MaxHeap__\n",
    "\n",
    "- always bubble the max value to the top, `__init__`;\n",
    "- public functions: `push`, `pop`, `peek`;\n",
    "- private functions: `__swap`, `__bubble_up`, `__bubble_down`"
   ]
  },
  {
   "cell_type": "code",
   "execution_count": 118,
   "metadata": {},
   "outputs": [
    {
     "name": "stdout",
     "output_type": "stream",
     "text": [
      "[1]\n",
      "[]\n",
      "[2]\n",
      "[]\n",
      "None\n"
     ]
    }
   ],
   "source": [
    "# solution 1\n",
    "\n",
    "class MaxHeap:\n",
    "    def __init__(self, items = []):\n",
    "        self.heap = [0]\n",
    "        for item in items:\n",
    "            self.push(item)\n",
    "        if len(self.heap) > 1:\n",
    "            self.heap.remove(0)\n",
    "            \n",
    "    def push(self, item):\n",
    "        self.heap.append(item)\n",
    "        self.__bubble_up()\n",
    "        \n",
    "    def pop(self):\n",
    "        if len(self.heap) > 1:\n",
    "            self.__swap(0, len(self.heap)-1)\n",
    "            self.heap.pop()\n",
    "            self.__bubble_down()\n",
    "        else:\n",
    "            self.heap.pop()\n",
    "        \n",
    "    def peek(self):\n",
    "        if len(self.heap) > 0:\n",
    "            return self.heap[0]\n",
    "        else:\n",
    "            return None\n",
    "    \n",
    "    def __swap(self, idx1, idx2):\n",
    "        self.heap[idx1], self.heap[idx2] = self.heap[idx2], self.heap[idx1]\n",
    "        \n",
    "    def __bubble_up(self):\n",
    "        curr_idx = len(self.heap) - 1\n",
    "        parent_idx = curr_idx // 2\n",
    "        while self.heap[parent_idx] < self.heap[curr_idx]:\n",
    "            self.__swap(parent_idx, curr_idx)\n",
    "            curr_idx = parent_idx\n",
    "            parent_idx = curr_idx // 2\n",
    "    \n",
    "    def __bubble_down(self):\n",
    "        curr_idx = 0\n",
    "        child_idx = 1\n",
    "        while child_idx + 1 <= len(self.heap) and self.heap[curr_idx] < max([self.heap[child_idx], self.heap[child_idx + 1]]):\n",
    "            child_idx = self.heap.index(max([self.heap[child_idx], self.heap[child_idx + 1]]))\n",
    "            self.__swap(curr_idx, child_idx)\n",
    "            curr_idx = child_idx\n",
    "            child_idx = curr_idx * 2\n",
    "            \n",
    "    def __str__(self):\n",
    "        return str(self.heap)\n",
    "        \n",
    "heap = MaxHeap([1])\n",
    "print(heap)\n",
    "\n",
    "heap.pop()\n",
    "print(heap)\n",
    "\n",
    "heap.push(2)\n",
    "print(heap)\n",
    "\n",
    "heap.pop()\n",
    "print(heap)\n",
    "\n",
    "print(heap.peek())"
   ]
  },
  {
   "cell_type": "code",
   "execution_count": null,
   "metadata": {},
   "outputs": [],
   "source": [
    "# solution 2\n",
    "\n",
    "class MaxHeap:\n",
    "    "
   ]
  }
 ],
 "metadata": {
  "kernelspec": {
   "display_name": "Python 3",
   "language": "python",
   "name": "python3"
  },
  "language_info": {
   "codemirror_mode": {
    "name": "ipython",
    "version": 3
   },
   "file_extension": ".py",
   "mimetype": "text/x-python",
   "name": "python",
   "nbconvert_exporter": "python",
   "pygments_lexer": "ipython3",
   "version": "3.8.5"
  },
  "toc": {
   "base_numbering": 1,
   "nav_menu": {
    "height": "449px",
    "width": "268px"
   },
   "number_sections": true,
   "sideBar": true,
   "skip_h1_title": false,
   "title_cell": "Table of Contents",
   "title_sidebar": "Contents",
   "toc_cell": false,
   "toc_position": {},
   "toc_section_display": true,
   "toc_window_display": false
  }
 },
 "nbformat": 4,
 "nbformat_minor": 4
}
