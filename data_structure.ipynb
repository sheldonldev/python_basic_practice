{
 "cells": [
  {
   "cell_type": "markdown",
   "metadata": {},
   "source": [
    "# Sequences: Str, List, Tuple\n",
    "\n",
    "## Indexing"
   ]
  },
  {
   "cell_type": "code",
   "execution_count": 2,
   "metadata": {},
   "outputs": [
    {
     "name": "stdout",
     "output_type": "stream",
     "text": [
      "c\n",
      "how are you\n",
      "meet\n"
     ]
    }
   ],
   "source": [
    "x = \"abc\"\n",
    "print(x[2])\n",
    "y = [\"hello\", \"world\", \"how are you\"]\n",
    "print(y[2])\n",
    "z = (\"nice\", \"to\", \"meet\", \"you\")\n",
    "print(z[2])"
   ]
  },
  {
   "cell_type": "markdown",
   "metadata": {},
   "source": [
    "## Slicing"
   ]
  },
  {
   "cell_type": "code",
   "execution_count": 5,
   "metadata": {},
   "outputs": [
    {
     "name": "stdout",
     "output_type": "stream",
     "text": [
      "012\n",
      "3456789\n",
      "0123456\n",
      "789\n",
      "3456\n",
      "0369\n",
      "14\n"
     ]
    }
   ],
   "source": [
    "x = \"0123456789\"\n",
    "print(x[:3])\n",
    "print(x[3:])\n",
    "print(x[:-3])\n",
    "print(x[-3:])\n",
    "print(x[3:-3])\n",
    "print(x[::3])  # last one is step\n",
    "print(x[1:6:3])"
   ]
  },
  {
   "cell_type": "markdown",
   "metadata": {},
   "source": [
    "## Adding / Concatinating"
   ]
  },
  {
   "cell_type": "code",
   "execution_count": 8,
   "metadata": {},
   "outputs": [
    {
     "name": "stdout",
     "output_type": "stream",
     "text": [
      "abcdef\n",
      "['abc', 'def', 'hi', 'jk']\n",
      "('how', 'are', 'you')\n"
     ]
    }
   ],
   "source": [
    "# str\n",
    "x = \"abc\" + \"def\"\n",
    "print(x)\n",
    "\n",
    "# list\n",
    "y = [\"abc\", \"def\"] + [\"hi\", \"jk\"]\n",
    "print(y)\n",
    "\n",
    "# tuple\n",
    "z = (\"how\", \"are\") + (\"you\",) # single element with trailing commer tells this is a tuple\n",
    "print(z)"
   ]
  },
  {
   "cell_type": "markdown",
   "metadata": {},
   "source": [
    "## Multiplying"
   ]
  },
  {
   "cell_type": "code",
   "execution_count": 9,
   "metadata": {},
   "outputs": [
    {
     "name": "stdout",
     "output_type": "stream",
     "text": [
      "abcabcabc\n",
      "['abc', 'def', 'g', 'abc', 'def', 'g', 'abc', 'def', 'g']\n",
      "('how', 'are', 'you', 'how', 'are', 'you', 'how', 'are', 'you')\n"
     ]
    }
   ],
   "source": [
    "x = \"abc\" * 3\n",
    "print(x)\n",
    "\n",
    "y = [\"abc\", \"def\", \"g\"] * 3\n",
    "print(y)\n",
    "\n",
    "z = (\"how\", \"are\", \"you\") * 3\n",
    "print(z)"
   ]
  },
  {
   "cell_type": "markdown",
   "metadata": {},
   "source": [
    "## Checking Membership"
   ]
  },
  {
   "cell_type": "code",
   "execution_count": 11,
   "metadata": {},
   "outputs": [
    {
     "name": "stdout",
     "output_type": "stream",
     "text": [
      "True\n",
      "False\n",
      "True\n"
     ]
    }
   ],
   "source": [
    "x = \"bug\"\n",
    "print(\"u\" in x)\n",
    "\n",
    "y = [\"small\", \"large\"]\n",
    "print(\"small\" not in y)\n",
    "\n",
    "z = (\"apple\", \"banana\", \"orange\")\n",
    "print(\"apple\" in z)"
   ]
  },
  {
   "cell_type": "markdown",
   "metadata": {},
   "source": [
    "## Iterating"
   ]
  },
  {
   "cell_type": "code",
   "execution_count": 14,
   "metadata": {},
   "outputs": [
    {
     "name": "stdout",
     "output_type": "stream",
     "text": [
      "this\n",
      "is\n",
      "the\n",
      "example\n",
      "0 this\n",
      "1 is\n",
      "2 the\n",
      "3 example\n"
     ]
    }
   ],
   "source": [
    "x = [\"this\", \"is\", \"the\", \"example\"]\n",
    "for item in x:\n",
    "    print(item)\n",
    "\n",
    "for index, item in enumerate(x):\n",
    "    print(index, item)"
   ]
  },
  {
   "cell_type": "markdown",
   "metadata": {},
   "source": [
    "## Number of Items"
   ]
  },
  {
   "cell_type": "code",
   "execution_count": 15,
   "metadata": {},
   "outputs": [
    {
     "name": "stdout",
     "output_type": "stream",
     "text": [
      "11\n",
      "6\n",
      "3\n"
     ]
    }
   ],
   "source": [
    "x = \"hello world\"\n",
    "print(len(x))\n",
    "\n",
    "y = [1,3,5,2,4,6]\n",
    "print(len(y))\n",
    "\n",
    "z = (\"apple\", \"banana\", \"orange\")\n",
    "print(len(z))"
   ]
  },
  {
   "cell_type": "markdown",
   "metadata": {},
   "source": [
    "## Min / Max / Sum\n",
    "- min/max: alpha or number, but not mixing\n",
    "- sum: must be numeric"
   ]
  },
  {
   "cell_type": "code",
   "execution_count": 20,
   "metadata": {},
   "outputs": [
    {
     "name": "stdout",
     "output_type": "stream",
     "text": [
      "_\n",
      "x\n",
      "23\n",
      "98\n",
      "34\n",
      "1\n",
      "5\n",
      "15\n"
     ]
    }
   ],
   "source": [
    "x = \"this_is_the_example\"\n",
    "print(min(x))\n",
    "print(max(x))\n",
    "# print(sum(x)) # Err\n",
    "\n",
    "y = [23, 56, 34, 98]\n",
    "print(min(y))\n",
    "print(max(y))\n",
    "print(sum(y[2:-1:2]))\n",
    "\n",
    "z = (1, 2, 3, 4, 5)\n",
    "print(min(z))\n",
    "print(max(z))\n",
    "print(sum(z))"
   ]
  },
  {
   "cell_type": "markdown",
   "metadata": {},
   "source": [
    "## Sorting"
   ]
  },
  {
   "cell_type": "code",
   "execution_count": 28,
   "metadata": {},
   "outputs": [
    {
     "name": "stdout",
     "output_type": "stream",
     "text": [
      "[' ', 'd', 'e', 'h', 'l', 'l', 'l', 'o', 'o', 'r', 'w']\n",
      "hello world\n",
      "[0, 1, 2, 4, 4, 6]\n",
      "[1, 4, 4, 6, 2, 0]\n",
      "['atom', 'dad', 'mom']\n",
      "['mom', 'dad', 'atom']\n",
      "['dad', 'mom', 'atom']\n"
     ]
    }
   ],
   "source": [
    "x = \"hello world\"\n",
    "print(sorted(x))  # will turn list!\n",
    "print(x)          # stay unchanged\n",
    "\n",
    "y = [1,4,4,6,2,0]\n",
    "print(sorted(y))\n",
    "print(y)\n",
    "\n",
    "z = [\"mom\", \"dad\", \"atom\"]\n",
    "print(sorted(z))\n",
    "print(z)\n",
    "\n",
    "# sorted by second letter by using \"key\"\n",
    "print(sorted(z, key=lambda item: item[1]))"
   ]
  },
  {
   "cell_type": "code",
   "execution_count": 29,
   "metadata": {},
   "outputs": [
    {
     "name": "stdout",
     "output_type": "stream",
     "text": [
      "None\n",
      "[0, 1, 2, 4, 4, 6]\n",
      "None\n",
      "['atom', 'dad', 'mom']\n",
      "['dad', 'mom', 'atom']\n"
     ]
    }
   ],
   "source": [
    "x = \"hello world\"\n",
    "# print(x.sort()) # Error, str no sort()!\n",
    "\n",
    "y = [1,4,4,6,2,0]\n",
    "print(list.sort(y)) # No return value, None!\n",
    "print(y)            # only side effect\n",
    "\n",
    "z = [\"mom\", \"dad\", \"atom\"]\n",
    "print(list.sort(z)) # No return value, None!\n",
    "print(z)            # only side effect\n",
    "\n",
    "list.sort(z, key=lambda item: item[1]) # similar to sorted using \"key\"\n",
    "print(z)"
   ]
  },
  {
   "cell_type": "markdown",
   "metadata": {},
   "source": [
    "## Count"
   ]
  },
  {
   "cell_type": "code",
   "execution_count": 30,
   "metadata": {},
   "outputs": [
    {
     "name": "stdout",
     "output_type": "stream",
     "text": [
      "2\n",
      "0\n",
      "3\n"
     ]
    }
   ],
   "source": [
    "x = \"hiphop\"\n",
    "print(x.count(\"p\"))\n",
    "\n",
    "y = [\"dog\", \"cow\", \"horse\", \"dog\"]\n",
    "print(y.count(\"bird\")) # no error\n",
    "\n",
    "z = (0, 0, 2, 3, 6, 1, 0)\n",
    "print(z.count(0))"
   ]
  },
  {
   "cell_type": "markdown",
   "metadata": {},
   "source": [
    "## Find Index"
   ]
  },
  {
   "cell_type": "code",
   "execution_count": 33,
   "metadata": {},
   "outputs": [
    {
     "name": "stdout",
     "output_type": "stream",
     "text": [
      "2\n",
      "0\n",
      "-1\n"
     ]
    }
   ],
   "source": [
    "x = \"hiphop\"\n",
    "print(x.index(\"p\"))\n",
    "\n",
    "y = [\"dog\", \"cow\", \"horse\", \"dog\"]\n",
    "# print(y.index(\"bird\")) # Error!\n",
    "\n",
    "z = (0, 0, 2, 3, 6, 1, 0)\n",
    "print(z.index(0))\n",
    "\n",
    "# a way to index (when item may not exist)\n",
    "res = y.index(\"bird\") if \"bird\" in y else -1\n",
    "print(res)"
   ]
  },
  {
   "cell_type": "markdown",
   "metadata": {},
   "source": [
    "## Unpacking"
   ]
  },
  {
   "cell_type": "code",
   "execution_count": 36,
   "metadata": {},
   "outputs": [
    {
     "name": "stdout",
     "output_type": "stream",
     "text": [
      "3 6 9\n",
      "Bonny John\n"
     ]
    }
   ],
   "source": [
    "x = [3, 6, 9]\n",
    "a, b, c = x\n",
    "print(a, b, c)\n",
    "\n",
    "y = (\"Bonny\", \"John\")\n",
    "a, b = y\n",
    "print(a, b)"
   ]
  },
  {
   "cell_type": "code",
   "execution_count": null,
   "metadata": {},
   "outputs": [],
   "source": []
  }
 ],
 "metadata": {
  "kernelspec": {
   "display_name": "Python 3",
   "language": "python",
   "name": "python3"
  },
  "language_info": {
   "codemirror_mode": {
    "name": "ipython",
    "version": 3
   },
   "file_extension": ".py",
   "mimetype": "text/x-python",
   "name": "python",
   "nbconvert_exporter": "python",
   "pygments_lexer": "ipython3",
   "version": "3.8.5"
  },
  "toc": {
   "base_numbering": 1,
   "nav_menu": {},
   "number_sections": true,
   "sideBar": true,
   "skip_h1_title": false,
   "title_cell": "Table of Contents",
   "title_sidebar": "Contents",
   "toc_cell": false,
   "toc_position": {},
   "toc_section_display": true,
   "toc_window_display": false
  }
 },
 "nbformat": 4,
 "nbformat_minor": 4
}
